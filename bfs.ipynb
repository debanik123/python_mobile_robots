{
 "cells": [
  {
   "cell_type": "code",
   "execution_count": 184,
   "id": "4ab827a2",
   "metadata": {},
   "outputs": [
    {
     "name": "stdout",
     "output_type": "stream",
     "text": [
      "4\n",
      "5\n"
     ]
    }
   ],
   "source": [
    "# print(len(g)) #x\n",
    "# print(len(g[0])) #y"
   ]
  },
  {
   "cell_type": "code",
   "execution_count": 1,
   "id": "31dd775f",
   "metadata": {},
   "outputs": [
    {
     "name": "stdout",
     "output_type": "stream",
     "text": [
      "0 4 1 5 8 9 2 6 10 12 13 14 3 7 11 15 "
     ]
    }
   ],
   "source": [
    "import numpy as np\n",
    "from collections import deque as Q\n",
    "\n",
    "# direction vectors\n",
    "dx = [-1, 1, 0, 0, -1, -1, 1, 1]\n",
    "dy = [0, 0, -1, 1, -1, 1, -1, 1]\n",
    "\n",
    "# function for cell if a cell visited or not\n",
    "def isValid(vis, x,y, grid):\n",
    "    \n",
    "    #if cell lies out of bounds\n",
    "    if(x<0 or y<0 or x>=len(grid) or y>=len(grid[0])):\n",
    "        return False\n",
    "    \n",
    "    # if cell is already visited\n",
    "    if(vis[x][y]):\n",
    "        return False\n",
    "    \n",
    "    return True\n",
    "\n",
    "\n",
    "def bfs(grid, vis, x_, y_):\n",
    "    q = Q()\n",
    "    \n",
    "    q.append((x_, y_))\n",
    "    vis[x_][y_] = True\n",
    "    \n",
    "    while (len(q)>0):\n",
    "        cell = q.popleft()\n",
    "        x,y = cell[0],cell[1]\n",
    "        print(grid[x][y], end=\" \")\n",
    "        \n",
    "        for i in range(len(dx)):\n",
    "            adj_x = x + dx[i]\n",
    "            adj_y = y + dy[i]\n",
    "            \n",
    "            if (isValid(vis, adj_x, adj_y, grid)):\n",
    "                q.append((adj_x, adj_y))\n",
    "                vis[adj_x][adj_y] = True\n",
    "\n",
    "vis = [[False for i in range(4)] for i in range(4)]\n",
    "\n",
    "grid = []\n",
    "k = 0\n",
    "grid = []\n",
    "for i in range(4):\n",
    "    j_load = []\n",
    "    for j in range(4):\n",
    "        j_load.append(k)\n",
    "        k+=1\n",
    "    grid.append(j_load)\n",
    "grid = np.array(grid)\n",
    "vis = np.array(vis)\n",
    "\n",
    "bfs(grid, vis, 0,0)"
   ]
  },
  {
   "cell_type": "code",
   "execution_count": 2,
   "id": "5f5433ed",
   "metadata": {},
   "outputs": [
    {
     "data": {
      "text/plain": [
       "array([[ 0,  1,  2,  3],\n",
       "       [ 4,  5,  6,  7],\n",
       "       [ 8,  9, 10, 11],\n",
       "       [12, 13, 14, 15]])"
      ]
     },
     "execution_count": 2,
     "metadata": {},
     "output_type": "execute_result"
    }
   ],
   "source": [
    "grid"
   ]
  },
  {
   "cell_type": "code",
   "execution_count": 3,
   "id": "bf9e72b6",
   "metadata": {},
   "outputs": [
    {
     "name": "stdout",
     "output_type": "stream",
     "text": [
      "0 4 1 8 5 2 12 9 6 3 13 10 7 14 11 15 "
     ]
    }
   ],
   "source": [
    "import numpy as np\n",
    "from collections import deque as Q\n",
    "\n",
    "# direction vectors\n",
    "dx = [-1, 1, 0, 0, -1, -1, 1, 1]\n",
    "dy = [0, 0, -1, 1, -1, 1, -1, 1]\n",
    "\n",
    "# function for cell if a cell visited or not\n",
    "def isValid(vis, x,y, grid):\n",
    "    \n",
    "    #if cell lies out of bounds\n",
    "    if(x<0 or y<0 or x>=len(grid) or y>=len(grid[0])):\n",
    "        return False\n",
    "    \n",
    "    # if cell is already visited\n",
    "    if(vis[x][y]):\n",
    "        return False\n",
    "    \n",
    "    return True\n",
    "\n",
    "\n",
    "def bfs(grid, vis, x_, y_):\n",
    "    q = Q()\n",
    "    \n",
    "    q.append((x_, y_))\n",
    "    vis[x_][y_] = True\n",
    "    \n",
    "    while (len(q)>0):\n",
    "        cell = q.popleft()\n",
    "        x,y = cell[0],cell[1]\n",
    "        print(grid[x][y], end=\" \")\n",
    "        \n",
    "        for i in range(len(dx)-4):\n",
    "            adj_x = x + dx[i]\n",
    "            adj_y = y + dy[i]\n",
    "            \n",
    "            if (isValid(vis, adj_x, adj_y, grid)):\n",
    "                q.append((adj_x, adj_y))\n",
    "                vis[adj_x][adj_y] = True\n",
    "\n",
    "vis = [[False for i in range(4)] for i in range(4)]\n",
    "\n",
    "grid = []\n",
    "k = 0\n",
    "grid = []\n",
    "for i in range(4):\n",
    "    j_load = []\n",
    "    for j in range(4):\n",
    "        j_load.append(k)\n",
    "        k+=1\n",
    "    grid.append(j_load)\n",
    "grid = np.array(grid)\n",
    "vis = np.array(vis)\n",
    "\n",
    "bfs(grid, vis, 0,0)"
   ]
  },
  {
   "cell_type": "code",
   "execution_count": 4,
   "id": "7f09a11f",
   "metadata": {},
   "outputs": [
    {
     "data": {
      "text/plain": [
       "array([[ 0,  1,  2,  3],\n",
       "       [ 4,  5,  6,  7],\n",
       "       [ 8,  9, 10, 11],\n",
       "       [12, 13, 14, 15]])"
      ]
     },
     "execution_count": 4,
     "metadata": {},
     "output_type": "execute_result"
    }
   ],
   "source": [
    "grid"
   ]
  },
  {
   "cell_type": "code",
   "execution_count": 11,
   "id": "53ffe9e3",
   "metadata": {},
   "outputs": [
    {
     "name": "stdout",
     "output_type": "stream",
     "text": [
      "(0, 0) (1, 0) (0, 1) (2, 0) (1, 1) (0, 2) (3, 0) (2, 1) (0, 3) (3, 1) (1, 3) (3, 2) (2, 3) (3, 3) "
     ]
    }
   ],
   "source": [
    "import numpy as np\n",
    "from collections import deque as Q\n",
    "\n",
    "# direction vectors\n",
    "dx = [-1, 1, 0, 0, -1, -1, 1, 1]\n",
    "dy = [0, 0, -1, 1, -1, 1, -1, 1]\n",
    "\n",
    "# function for cell if a cell visited or not\n",
    "def isValid(vis, x,y, grid):\n",
    "    \n",
    "    #if cell lies out of bounds\n",
    "    if(x<0 or y<0 or x>=len(grid) or y>=len(grid[0]) or grid[x][y]!=0):\n",
    "        return False\n",
    "    \n",
    "    # if cell is already visited\n",
    "    if(vis[x][y]):\n",
    "        return False\n",
    "    \n",
    "    return True\n",
    "\n",
    "\n",
    "def bfs(grid, vis, x_, y_):\n",
    "    q = Q()\n",
    "    \n",
    "    q.append((x_, y_))\n",
    "    vis[x_][y_] = True\n",
    "    \n",
    "    while (len(q)>0):\n",
    "        cell = q.popleft()\n",
    "        x,y = cell[0],cell[1]\n",
    "        print((x,y), end=\" \")\n",
    "        \n",
    "        for i in range(len(dx)-4):\n",
    "            adj_x = x + dx[i]\n",
    "            adj_y = y + dy[i]\n",
    "            \n",
    "            if (isValid(vis, adj_x, adj_y, grid)):\n",
    "                \n",
    "                q.append((adj_x, adj_y))\n",
    "                vis[adj_x][adj_y] = True\n",
    "\n",
    "vis = [[False for i in range(4)] for i in range(4)]\n",
    "\n",
    "grid = [[0,0,0,0],\n",
    "       [0,0,1,0],\n",
    "       [0,0,1,0],\n",
    "       [0,0,0,0]]\n",
    "grid = np.array(grid)\n",
    "vis = np.array(vis)\n",
    "\n",
    "bfs(grid, vis, 0,0)"
   ]
  },
  {
   "cell_type": "code",
   "execution_count": 12,
   "id": "a0f65882",
   "metadata": {},
   "outputs": [
    {
     "data": {
      "text/plain": [
       "array([[0, 0, 0, 0],\n",
       "       [0, 0, 1, 0],\n",
       "       [0, 0, 1, 0],\n",
       "       [0, 0, 0, 0]])"
      ]
     },
     "execution_count": 12,
     "metadata": {},
     "output_type": "execute_result"
    }
   ],
   "source": [
    "grid"
   ]
  },
  {
   "cell_type": "code",
   "execution_count": 217,
   "id": "f658492f",
   "metadata": {},
   "outputs": [
    {
     "name": "stdout",
     "output_type": "stream",
     "text": [
      "Found: DLDDRDDDDRRD\n",
      "# # # # # O # # # \n",
      "#       + +     # \n",
      "#   # # + # #   # \n",
      "#   #   + + #   # \n",
      "#   #   # + #   # \n",
      "#   #   # + #   # \n",
      "#   #   # + # # # \n",
      "#         + + + # \n",
      "# # # # # # # + # \n"
     ]
    }
   ],
   "source": [
    "import queue\n",
    "\n",
    "\n",
    "def createMaze():\n",
    "    maze = []\n",
    "    maze.append([\"#\",\"#\", \"#\", \"#\", \"#\", \"O\",\"#\"])\n",
    "    maze.append([\"#\",\" \", \" \", \" \", \"#\", \" \",\"#\"])\n",
    "    maze.append([\"#\",\" \", \"#\", \" \", \"#\", \" \",\"#\"])\n",
    "    maze.append([\"#\",\" \", \"#\", \" \", \" \", \" \",\"#\"])\n",
    "    maze.append([\"#\",\" \", \"#\", \"#\", \"#\", \" \",\"#\"])\n",
    "    maze.append([\"#\",\" \", \" \", \" \", \"#\", \" \",\"#\"])\n",
    "    maze.append([\"#\",\"#\", \"#\", \"#\", \"#\", \"X\",\"#\"])\n",
    "\n",
    "    return maze\n",
    "\n",
    "def createMaze2():\n",
    "    maze = []\n",
    "    maze.append([\"#\",\"#\", \"#\", \"#\", \"#\", \"O\", \"#\", \"#\", \"#\"])\n",
    "    maze.append([\"#\",\" \", \" \", \" \", \" \", \" \", \" \", \" \", \"#\"])\n",
    "    maze.append([\"#\",\" \", \"#\", \"#\", \" \", \"#\", \"#\", \" \", \"#\"])\n",
    "    maze.append([\"#\",\" \", \"#\", \" \", \" \", \" \", \"#\", \" \", \"#\"])\n",
    "    maze.append([\"#\",\" \", \"#\", \" \", \"#\", \" \", \"#\", \" \", \"#\"])\n",
    "    maze.append([\"#\",\" \", \"#\", \" \", \"#\", \" \", \"#\", \" \", \"#\"])\n",
    "    maze.append([\"#\",\" \", \"#\", \" \", \"#\", \" \", \"#\", \"#\", \"#\"])\n",
    "    maze.append([\"#\",\" \", \" \", \" \", \" \", \" \", \" \", \" \", \"#\"])\n",
    "    maze.append([\"#\",\"#\", \"#\", \"#\", \"#\", \"#\", \"#\", \"X\", \"#\"])\n",
    "\n",
    "    return maze\n",
    "\n",
    "\n",
    "def printMaze(maze, path=\"\"):\n",
    "    for x, pos in enumerate(maze[0]):\n",
    "        if pos == \"O\":\n",
    "            start = x\n",
    "\n",
    "    i = start\n",
    "    j = 0\n",
    "    pos = set()\n",
    "    for move in path:\n",
    "        if move == \"L\":\n",
    "            i -= 1\n",
    "\n",
    "        elif move == \"R\":\n",
    "            i += 1\n",
    "\n",
    "        elif move == \"U\":\n",
    "            j -= 1\n",
    "\n",
    "        elif move == \"D\":\n",
    "            j += 1\n",
    "        pos.add((j, i))\n",
    "    \n",
    "    for j, row in enumerate(maze):\n",
    "        for i, col in enumerate(row):\n",
    "            if (j, i) in pos:\n",
    "                print(\"+ \", end=\"\")\n",
    "            else:\n",
    "                print(col + \" \", end=\"\")\n",
    "        print()\n",
    "        \n",
    "\n",
    "\n",
    "def valid(maze, moves):\n",
    "    for x, pos in enumerate(maze[0]):\n",
    "        if pos == \"O\":\n",
    "            start = x\n",
    "\n",
    "    i = start\n",
    "    j = 0\n",
    "    for move in moves:\n",
    "        if move == \"L\":\n",
    "            i -= 1\n",
    "\n",
    "        elif move == \"R\":\n",
    "            i += 1\n",
    "\n",
    "        elif move == \"U\":\n",
    "            j -= 1\n",
    "\n",
    "        elif move == \"D\":\n",
    "            j += 1\n",
    "\n",
    "        if not(0 <= i < len(maze[0]) and 0 <= j < len(maze)):\n",
    "            return False\n",
    "        elif (maze[j][i] == \"#\"):\n",
    "            return False\n",
    "\n",
    "    return True\n",
    "\n",
    "\n",
    "def findEnd(maze, moves):\n",
    "    for x, pos in enumerate(maze[0]):\n",
    "        if pos == \"O\":\n",
    "            start = x\n",
    "\n",
    "    i = start\n",
    "    j = 0\n",
    "    for move in moves:\n",
    "        if move == \"L\":\n",
    "            i -= 1\n",
    "\n",
    "        elif move == \"R\":\n",
    "            i += 1\n",
    "\n",
    "        elif move == \"U\":\n",
    "            j -= 1\n",
    "\n",
    "        elif move == \"D\":\n",
    "            j += 1\n",
    "\n",
    "    if maze[j][i] == \"X\":\n",
    "        print(\"Found: \" + moves)\n",
    "        printMaze(maze, moves)\n",
    "        return True\n",
    "\n",
    "    return False\n",
    "\n",
    "\n",
    "# MAIN ALGORITHM\n",
    "\n",
    "nums = queue.Queue()\n",
    "nums.put(\"\")\n",
    "add = \"\"\n",
    "maze  = createMaze2()\n",
    "\n",
    "while not findEnd(maze, add): \n",
    "    add = nums.get()\n",
    "    #print(add)\n",
    "    for j in [\"L\", \"R\", \"U\", \"D\"]:\n",
    "        put = add + j\n",
    "        if valid(maze, put):\n",
    "            nums.put(put)\n"
   ]
  },
  {
   "cell_type": "code",
   "execution_count": null,
   "id": "d0dc518d",
   "metadata": {},
   "outputs": [],
   "source": []
  }
 ],
 "metadata": {
  "kernelspec": {
   "display_name": "Python 3 (ipykernel)",
   "language": "python",
   "name": "python3"
  },
  "language_info": {
   "codemirror_mode": {
    "name": "ipython",
    "version": 3
   },
   "file_extension": ".py",
   "mimetype": "text/x-python",
   "name": "python",
   "nbconvert_exporter": "python",
   "pygments_lexer": "ipython3",
   "version": "3.8.10"
  }
 },
 "nbformat": 4,
 "nbformat_minor": 5
}
