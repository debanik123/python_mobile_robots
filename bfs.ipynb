{
 "cells": [
  {
   "cell_type": "code",
   "execution_count": null,
   "id": "4ab827a2",
   "metadata": {},
   "outputs": [],
   "source": [
    "# print(len(g)) #x\n",
    "# print(len(g[0])) #y"
   ]
  },
  {
   "cell_type": "code",
   "execution_count": null,
   "id": "31dd775f",
   "metadata": {},
   "outputs": [],
   "source": [
    "import numpy as np\n",
    "from collections import deque as Q\n",
    "\n",
    "# direction vectors\n",
    "dx = [-1, 1, 0, 0, -1, -1, 1, 1]\n",
    "dy = [0, 0, -1, 1, -1, 1, -1, 1]\n",
    "\n",
    "# function for cell if a cell visited or not\n",
    "def isValid(vis, x,y, grid):\n",
    "    \n",
    "    #if cell lies out of bounds\n",
    "    if(x<0 or y<0 or x>=len(grid) or y>=len(grid[0])):\n",
    "        return False\n",
    "    \n",
    "    # if cell is already visited\n",
    "    if(vis[x][y]):\n",
    "        return False\n",
    "    \n",
    "    return True\n",
    "\n",
    "\n",
    "def bfs(grid, vis, x_, y_):\n",
    "    q = Q()\n",
    "    \n",
    "    q.append((x_, y_))\n",
    "    vis[x_][y_] = True\n",
    "    \n",
    "    while (len(q)>0):\n",
    "        cell = q.popleft()\n",
    "        x,y = cell[0],cell[1]\n",
    "        print(grid[x][y], end=\" \")\n",
    "        \n",
    "        for i in range(len(dx)):\n",
    "            adj_x = x + dx[i]\n",
    "            adj_y = y + dy[i]\n",
    "            \n",
    "            if (isValid(vis, adj_x, adj_y, grid)):\n",
    "                q.append((adj_x, adj_y))\n",
    "                vis[adj_x][adj_y] = True\n",
    "\n",
    "vis = [[False for i in range(4)] for i in range(4)]\n",
    "\n",
    "grid = []\n",
    "k = 0\n",
    "grid = []\n",
    "for i in range(4):\n",
    "    j_load = []\n",
    "    for j in range(4):\n",
    "        j_load.append(k)\n",
    "        k+=1\n",
    "    grid.append(j_load)\n",
    "grid = np.array(grid)\n",
    "vis = np.array(vis)\n",
    "\n",
    "bfs(grid, vis, 0,0)"
   ]
  },
  {
   "cell_type": "code",
   "execution_count": null,
   "id": "5f5433ed",
   "metadata": {},
   "outputs": [],
   "source": [
    "grid"
   ]
  },
  {
   "cell_type": "code",
   "execution_count": null,
   "id": "bf9e72b6",
   "metadata": {},
   "outputs": [],
   "source": [
    "import numpy as np\n",
    "from collections import deque as Q\n",
    "\n",
    "# direction vectors\n",
    "dx = [-1, 1, 0, 0, -1, -1, 1, 1]\n",
    "dy = [0, 0, -1, 1, -1, 1, -1, 1]\n",
    "\n",
    "# function for cell if a cell visited or not\n",
    "def isValid(vis, x,y, grid):\n",
    "    \n",
    "    #if cell lies out of bounds\n",
    "    if(x<0 or y<0 or x>=len(grid) or y>=len(grid[0])):\n",
    "        return False\n",
    "    \n",
    "    # if cell is already visited\n",
    "    if(vis[x][y]):\n",
    "        return False\n",
    "    \n",
    "    return True\n",
    "\n",
    "\n",
    "def bfs(grid, vis, x_, y_):\n",
    "    q = Q()\n",
    "    \n",
    "    q.append((x_, y_))\n",
    "    vis[x_][y_] = True\n",
    "    \n",
    "    while (len(q)>0):\n",
    "        cell = q.popleft()\n",
    "        x,y = cell[0],cell[1]\n",
    "        print(grid[x][y], end=\" \")\n",
    "        \n",
    "        for i in range(len(dx)-4):\n",
    "            adj_x = x + dx[i]\n",
    "            adj_y = y + dy[i]\n",
    "            \n",
    "            if (isValid(vis, adj_x, adj_y, grid)):\n",
    "                q.append((adj_x, adj_y))\n",
    "                vis[adj_x][adj_y] = True\n",
    "\n",
    "vis = [[False for i in range(4)] for i in range(4)]\n",
    "\n",
    "grid = []\n",
    "k = 0\n",
    "grid = []\n",
    "for i in range(4):\n",
    "    j_load = []\n",
    "    for j in range(4):\n",
    "        j_load.append(k)\n",
    "        k+=1\n",
    "    grid.append(j_load)\n",
    "grid = np.array(grid)\n",
    "vis = np.array(vis)\n",
    "\n",
    "bfs(grid, vis, 0,0)"
   ]
  },
  {
   "cell_type": "code",
   "execution_count": null,
   "id": "7f09a11f",
   "metadata": {},
   "outputs": [],
   "source": [
    "grid"
   ]
  },
  {
   "cell_type": "code",
   "execution_count": 5,
   "id": "53ffe9e3",
   "metadata": {},
   "outputs": [
    {
     "name": "stdout",
     "output_type": "stream",
     "text": [
      "(0, 0) (1, 0) (0, 1) (2, 0) (1, 1) (0, 2) (3, 0) (2, 1) (0, 3) (3, 1) (1, 3) (3, 2) (2, 3) (3, 3) "
     ]
    }
   ],
   "source": [
    "import numpy as np\n",
    "from collections import deque as Q\n",
    "\n",
    "# direction vectors\n",
    "dx = [-1, 1, 0, 0, -1, -1, 1, 1]\n",
    "dy = [0, 0, -1, 1, -1, 1, -1, 1]\n",
    "\n",
    "# function for cell if a cell visited or not\n",
    "def isValid(vis, x,y, grid):\n",
    "    \n",
    "    #if cell lies out of bounds\n",
    "    if(x<0 or y<0 or x>=len(grid) or y>=len(grid[0]) or grid[x][y]!=0):\n",
    "        return False\n",
    "    \n",
    "    # if cell is already visited\n",
    "    if(vis[x][y]):\n",
    "        return False\n",
    "    \n",
    "    return True\n",
    "\n",
    "\n",
    "def bfs(grid, vis, x_, y_):\n",
    "    q = Q()\n",
    "    \n",
    "    q.append((x_, y_))\n",
    "    vis[x_][y_] = True\n",
    "    \n",
    "    while (len(q)>0):\n",
    "        cell = q.popleft()\n",
    "        x,y = cell[0],cell[1]\n",
    "        print((x,y), end=\" \")\n",
    "        \n",
    "        for i in range(len(dx)-4):\n",
    "            adj_x = x + dx[i]\n",
    "            adj_y = y + dy[i]\n",
    "            \n",
    "            if (isValid(vis, adj_x, adj_y, grid)):\n",
    "                \n",
    "                q.append((adj_x, adj_y))\n",
    "                vis[adj_x][adj_y] = True\n",
    "\n",
    "vis = [[False for i in range(4)] for i in range(4)]\n",
    "\n",
    "grid = [[0,0,0,0],\n",
    "       [0,0,1,0],\n",
    "       [0,0,1,0],\n",
    "       [0,0,0,0]]\n",
    "grid = np.array(grid)\n",
    "vis = np.array(vis)\n",
    "\n",
    "bfs(grid, vis, 0,0)"
   ]
  },
  {
   "cell_type": "code",
   "execution_count": 6,
   "id": "a0f65882",
   "metadata": {},
   "outputs": [
    {
     "data": {
      "text/plain": [
       "array([[0, 0, 0, 0],\n",
       "       [0, 0, 1, 0],\n",
       "       [0, 0, 1, 0],\n",
       "       [0, 0, 0, 0]])"
      ]
     },
     "execution_count": 6,
     "metadata": {},
     "output_type": "execute_result"
    }
   ],
   "source": [
    "grid"
   ]
  },
  {
   "cell_type": "code",
   "execution_count": 8,
   "id": "1231d803",
   "metadata": {},
   "outputs": [
    {
     "name": "stdout",
     "output_type": "stream",
     "text": [
      "Length of path: 26\n",
      "Path Items: [5, 13] [6, 13] [6, 12] [6, 11] [6, 10] [6, 9] [6, 8] [6, 7] [6, 6] [6, 5] [6, 4] [5, 4] [4, 4] [4, 3] [4, 2] [4, 1] [3, 1] [2, 1] [1, 1] [1, 2] [1, 3] [1, 4] [1, 5] [1, 6] [1, 7] [1, 8] [0, 8]\n"
     ]
    }
   ],
   "source": [
    "from collections import deque\n",
    "def solveMazeWithPath(maze):\n",
    "    R, C = len(maze), len(maze[0])\n",
    "\n",
    "    start = (0, 0)\n",
    "    for r in range(R):\n",
    "        for c in range(C):\n",
    "            if maze[r][c] == 'S':\n",
    "                start = (r, c)\n",
    "                print\n",
    "                break\n",
    "        else:\n",
    "            continue\n",
    "        break\n",
    "    else:\n",
    "        return None\n",
    "\n",
    "    queue = deque()\n",
    "    queue.appendleft((start[0], start[1], 0, [start[0] * C + start[1]]))\n",
    "    directions = [[0, 1], [0, -1], [1, 0], [-1, 0]]\n",
    "    visited = [[False] * C for _ in range(R)]\n",
    "\n",
    "    while len(queue) != 0:\n",
    "        coord = queue.pop()\n",
    "        visited[coord[0]][coord[1]] = True\n",
    "\n",
    "        if maze[coord[0]][coord[1]] == \"E\":\n",
    "            return coord[2], [[i//C, i%C] for i in coord[3]] # Return path length, boxes on path\n",
    "\n",
    "        for dir in directions:\n",
    "            nr, nc = coord[0] + dir[0], coord[1] + dir[1]\n",
    "            if (nr < 0 or nr >= R or nc < 0 or nc >= C or maze[nr][nc] == \"#\" or visited[nr][nc]): continue\n",
    "            queue.appendleft((nr, nc, coord[2] + 1, coord[3] + [nr * C + nc]))\n",
    "\n",
    "with open(\"maze.txt\") as f:\n",
    "    maze = []\n",
    "    for line in f:\n",
    "        maze.append([i for i in line.strip(\"\\n\")])\n",
    "    pathLen, pathItems = solveMazeWithPath(maze)\n",
    "    print(\"Length of path:\", pathLen)\n",
    "    print(\"Path Items:\", *pathItems)"
   ]
  },
  {
   "cell_type": "code",
   "execution_count": 2,
   "id": "f1222891",
   "metadata": {},
   "outputs": [
    {
     "data": {
      "text/plain": [
       "array([['#', '#', '#', '#', '#', '#', '#', '#', 'E', '#', '#', '#', '#',\n",
       "        '#', '#', '#'],\n",
       "       ['#', '.', '.', '.', '.', '.', '.', '.', '.', '.', '.', '#', '.',\n",
       "        '.', '.', '#'],\n",
       "       ['#', '.', '#', '#', '#', '#', '#', '#', '.', '#', '#', '#', '.',\n",
       "        '#', '.', '#'],\n",
       "       ['#', '.', '#', '#', '.', '.', '.', '#', '.', '.', '#', '#', '.',\n",
       "        '#', '.', '#'],\n",
       "       ['#', '.', '.', '.', '.', '#', '.', '.', '#', '#', '.', '.', '.',\n",
       "        '.', '.', '#'],\n",
       "       ['#', '#', '.', '#', '.', '#', '#', '#', '#', '#', '#', '#', '#',\n",
       "        'S', '#', '#'],\n",
       "       ['#', '#', '.', '#', '.', '.', '.', '.', '.', '.', '.', '.', '.',\n",
       "        '.', '.', '#'],\n",
       "       ['#', '#', '#', '#', '#', '#', '#', '#', '#', '#', '#', '#', '#',\n",
       "        '#', '#', '#']], dtype='<U1')"
      ]
     },
     "execution_count": 2,
     "metadata": {},
     "output_type": "execute_result"
    }
   ],
   "source": [
    "with open(\"maze.txt\") as f:\n",
    "    maze = []\n",
    "    for line in f:\n",
    "        maze.append([i for i in line.strip(\"\\n\")])\n",
    "import numpy as np\n",
    "maze = np.array(maze)\n",
    "maze"
   ]
  },
  {
   "cell_type": "code",
   "execution_count": 3,
   "id": "fe2cd9bb",
   "metadata": {},
   "outputs": [],
   "source": [
    "for it in pathItems:\n",
    "    maze[it[0]][it[1]] = 'p'"
   ]
  },
  {
   "cell_type": "code",
   "execution_count": 4,
   "id": "eb40c071",
   "metadata": {},
   "outputs": [
    {
     "data": {
      "text/plain": [
       "array([['#', '#', '#', '#', '#', '#', '#', '#', 'p', '#', '#', '#', '#',\n",
       "        '#', '#', '#'],\n",
       "       ['#', 'p', 'p', 'p', 'p', 'p', 'p', 'p', 'p', '.', '.', '#', '.',\n",
       "        '.', '.', '#'],\n",
       "       ['#', 'p', '#', '#', '#', '#', '#', '#', '.', '#', '#', '#', '.',\n",
       "        '#', '.', '#'],\n",
       "       ['#', 'p', '#', '#', '.', '.', '.', '#', '.', '.', '#', '#', '.',\n",
       "        '#', '.', '#'],\n",
       "       ['#', 'p', 'p', 'p', 'p', '#', '.', '.', '#', '#', '.', '.', '.',\n",
       "        '.', '.', '#'],\n",
       "       ['#', '#', '.', '#', 'p', '#', '#', '#', '#', '#', '#', '#', '#',\n",
       "        'p', '#', '#'],\n",
       "       ['#', '#', '.', '#', 'p', 'p', 'p', 'p', 'p', 'p', 'p', 'p', 'p',\n",
       "        'p', '.', '#'],\n",
       "       ['#', '#', '#', '#', '#', '#', '#', '#', '#', '#', '#', '#', '#',\n",
       "        '#', '#', '#']], dtype='<U1')"
      ]
     },
     "execution_count": 4,
     "metadata": {},
     "output_type": "execute_result"
    }
   ],
   "source": [
    "maze"
   ]
  },
  {
   "cell_type": "code",
   "execution_count": 25,
   "id": "2664e61e",
   "metadata": {},
   "outputs": [],
   "source": [
    "def createMaze():\n",
    "    maze = []\n",
    "    maze.append([\"#\",\"#\", \"#\", \"#\", \"#\", \"E\",\"#\"])\n",
    "    maze.append([\"#\",\" \", \" \", \" \", \"#\", \" \",\"#\"])\n",
    "    maze.append([\"#\",\" \", \"#\", \" \", \"#\", \" \",\"#\"])\n",
    "    maze.append([\"#\",\" \", \"#\", \" \", \" \", \" \",\"#\"])\n",
    "    maze.append([\"#\",\" \", \"#\", \"#\", \"#\", \" \",\"#\"])\n",
    "    maze.append([\"#\",\" \", \" \", \" \", \"#\", \" \",\"#\"])\n",
    "    maze.append([\"#\",\"#\", \"#\", \"#\", \"#\", \"S\",\"#\"])\n",
    "\n",
    "    return maze\n",
    "\n",
    "def createMaze2():\n",
    "    maze = []\n",
    "    maze.append([\"#\",\"#\", \"#\", \"#\", \"#\", \" \", \"#\", \"#\", \"#\"])\n",
    "    maze.append([\"#\",\"E\", \" \", \" \", \" \", \" \", \" \", \" \", \"#\"])\n",
    "    maze.append([\"#\",\" \", \"#\", \"#\", \" \", \"#\", \"#\", \" \", \"#\"])\n",
    "    maze.append([\"#\",\" \", \"#\", \" \", \" \", \" \", \"#\", \" \", \"#\"])\n",
    "    maze.append([\"#\",\" \", \"#\", \" \", \"#\", \" \", \"#\", \" \", \"#\"])\n",
    "    maze.append([\"#\",\" \", \"#\", \" \", \"#\", \" \", \"#\", \" \", \"#\"])\n",
    "    maze.append([\"#\",\" \", \"#\", \" \", \"#\", \" \", \"#\", \"#\", \"#\"])\n",
    "    maze.append([\"#\",\" \", \" \", \" \", \" \", \" \", \" \", \" \", \"#\"])\n",
    "    maze.append([\"#\",\"#\", \"#\", \"#\", \"#\", \"#\", \"#\", \"S\", \"#\"])\n",
    "\n",
    "    return maze"
   ]
  },
  {
   "cell_type": "code",
   "execution_count": 26,
   "id": "f3e301a5",
   "metadata": {},
   "outputs": [
    {
     "name": "stdout",
     "output_type": "stream",
     "text": [
      "Length of path: 6\n",
      "Path Items: [6, 5] [5, 5] [4, 5] [3, 5] [2, 5] [1, 5] [0, 5]\n"
     ]
    },
    {
     "data": {
      "text/plain": [
       "[['#', '#', '#', '#', '#', '^', '#'],\n",
       " ['#', ' ', ' ', ' ', '#', '^', '#'],\n",
       " ['#', ' ', '#', ' ', '#', '^', '#'],\n",
       " ['#', ' ', '#', ' ', ' ', '^', '#'],\n",
       " ['#', ' ', '#', '#', '#', '^', '#'],\n",
       " ['#', ' ', ' ', ' ', '#', '^', '#'],\n",
       " ['#', '#', '#', '#', '#', '^', '#']]"
      ]
     },
     "execution_count": 26,
     "metadata": {},
     "output_type": "execute_result"
    }
   ],
   "source": [
    "maze = createMaze()\n",
    "pathLen, pathItems = solveMazeWithPath(maze)\n",
    "print(\"Length of path:\", pathLen)\n",
    "print(\"Path Items:\", *pathItems)\n",
    "for it in pathItems:\n",
    "    maze[it[0]][it[1]] = '^'\n",
    "maze"
   ]
  },
  {
   "cell_type": "code",
   "execution_count": 27,
   "id": "b9f36220",
   "metadata": {},
   "outputs": [
    {
     "name": "stdout",
     "output_type": "stream",
     "text": [
      "Length of path: 13\n",
      "Path Items: [8, 7] [7, 7] [7, 6] [7, 5] [7, 4] [7, 3] [7, 2] [7, 1] [6, 1] [5, 1] [4, 1] [3, 1] [2, 1] [1, 1]\n"
     ]
    },
    {
     "data": {
      "text/plain": [
       "[['#', '#', '#', '#', '#', ' ', '#', '#', '#'],\n",
       " ['#', '^', ' ', ' ', ' ', ' ', ' ', ' ', '#'],\n",
       " ['#', '^', '#', '#', ' ', '#', '#', ' ', '#'],\n",
       " ['#', '^', '#', ' ', ' ', ' ', '#', ' ', '#'],\n",
       " ['#', '^', '#', ' ', '#', ' ', '#', ' ', '#'],\n",
       " ['#', '^', '#', ' ', '#', ' ', '#', ' ', '#'],\n",
       " ['#', '^', '#', ' ', '#', ' ', '#', '#', '#'],\n",
       " ['#', '^', '^', '^', '^', '^', '^', '^', '#'],\n",
       " ['#', '#', '#', '#', '#', '#', '#', '^', '#']]"
      ]
     },
     "execution_count": 27,
     "metadata": {},
     "output_type": "execute_result"
    }
   ],
   "source": [
    "maze = createMaze2()\n",
    "pathLen, pathItems = solveMazeWithPath(maze)\n",
    "print(\"Length of path:\", pathLen)\n",
    "print(\"Path Items:\", *pathItems)\n",
    "for it in pathItems:\n",
    "    maze[it[0]][it[1]] = '^'\n",
    "maze"
   ]
  },
  {
   "cell_type": "code",
   "execution_count": 51,
   "id": "bb5b3262",
   "metadata": {},
   "outputs": [],
   "source": [
    "import numpy as np\n",
    "from collections import deque\n",
    "\n",
    "class BFS(object):\n",
    "    def __init__(self, maze, start, goal, obs_sym):\n",
    "        self.start = start\n",
    "        self.goal = goal\n",
    "        self.maze = maze\n",
    "        self.r, self.c = len(maze), len(maze[0])\n",
    "        self.visited = [[False]*self.c for _ in range(self.r)]\n",
    "        self.path_cnt = 0\n",
    "        self.direction_arr = [[-1,0],[1,0],[0,-1],[0,1]] # for side moves\n",
    "        self.direction_arr_dia = [[-1,0],[1,0],[0,-1],[0,1], [-1,-1],[-1, 1],[1,-1],[1,1]]\n",
    "        self.obs_sym = obs_sym\n",
    "        \n",
    "    def bfs(self):\n",
    "        self.q = deque()\n",
    "        self.q.appendleft((self.start[0],self.start[1],self.path_cnt,[self.start[0]*self.c+self.start[1]]))\n",
    "        \n",
    "        while(len(self.q)!=0):\n",
    "            self.coor = self.q.pop()\n",
    "            self.visited[self.coor[0]][self.coor[1]] =True\n",
    "            \n",
    "            if self.maze[self.coor[0]][self.coor[1]] == self.maze[self.goal[0]][self.goal[1]]:\n",
    "                return self.coor[2], [[i//self.c, i%self.c] for i in self.coor[3]]\n",
    "            \n",
    "            for dir_vec in self.direction_arr:\n",
    "                nr = self.coor[0]+dir_vec[0]\n",
    "                nc = self.coor[1]+dir_vec[1]\n",
    "                \n",
    "                if(nr<0 or nc<0 or nr>=self.r or nc>=self.c or self.visited[nr][nc] or self.maze[nr][nc] == self.obs_sym):\n",
    "                    continue\n",
    "                \n",
    "                self.q.appendleft((nr,nc, self.coor[2]+1, self.coor[3]+[nr*self.c+nc]))\n",
    "        \n",
    "                \n",
    "                    \n",
    "        \n",
    "        \n",
    "        "
   ]
  },
  {
   "cell_type": "code",
   "execution_count": 58,
   "id": "86dc5b24",
   "metadata": {},
   "outputs": [
    {
     "name": "stdout",
     "output_type": "stream",
     "text": [
      "start-> (6, 3)\n",
      "goal-> (6, 5)\n",
      "Length of path: 16\n",
      "Path Items: [6, 3] [5, 3] [5, 2] [5, 1] [4, 1] [3, 1] [2, 1] [1, 1] [1, 2] [1, 3] [2, 3] [3, 3] [3, 4] [3, 5] [4, 5] [5, 5] [6, 5]\n",
      "[['#' '#' '#' '#' '#' ' ' '#']\n",
      " ['#' '^' '^' '^' '#' ' ' '#']\n",
      " ['#' '^' '#' '^' '#' ' ' '#']\n",
      " ['#' '^' '#' '^' '^' '^' '#']\n",
      " ['#' '^' '#' '#' '#' '^' '#']\n",
      " ['#' '^' '^' '^' '#' '^' '#']\n",
      " ['#' '#' '#' '^' '#' '^' '#']]\n"
     ]
    }
   ],
   "source": [
    "def createMaze():\n",
    "    maze = []\n",
    "    maze.append([\"#\",\"#\", \"#\", \"#\", \"#\", \" \",\"#\"])\n",
    "    maze.append([\"#\",\" \", \" \", \" \", \"#\", \" \",\"#\"])\n",
    "    maze.append([\"#\",\" \", \"#\", \" \", \"#\", \" \",\"#\"])\n",
    "    maze.append([\"#\",\" \", \"#\", \" \", \" \", \" \",\"#\"])\n",
    "    maze.append([\"#\",\" \", \"#\", \"#\", \"#\", \" \",\"#\"])\n",
    "    maze.append([\"#\",\" \", \" \", \" \", \"#\", \" \",\"#\"])\n",
    "    maze.append([\"#\",\"#\", \"#\", \"S\", \"#\", \"E\",\"#\"])\n",
    "\n",
    "    return maze\n",
    "\n",
    "maze = createMaze()\n",
    "\n",
    "def find_S_G(maze, val):\n",
    "    for i in range(len(maze)):\n",
    "        for j in range(len(maze[0])):\n",
    "            if maze[i][j] == str(val):\n",
    "                return (i,j)\n",
    "def path_viz(maze,pathItems):\n",
    "    for it in pathItems:\n",
    "        maze[it[0]][it[1]] = '^'\n",
    "    return maze\n",
    "\n",
    "start = find_S_G(maze, 'S')\n",
    "print(\"start->\",start)\n",
    "\n",
    "goal = find_S_G(maze, 'E')\n",
    "print(\"goal->\",goal)\n",
    "\n",
    "b = BFS(maze, start, goal,\"#\")\n",
    "pathLen, pathItems = b.bfs()\n",
    "\n",
    "print(\"Length of path:\", pathLen)\n",
    "print(\"Path Items:\", *pathItems)\n",
    "\n",
    "maze = np.array(path_viz(maze,pathItems))\n",
    "print(maze)\n"
   ]
  },
  {
   "cell_type": "code",
   "execution_count": null,
   "id": "bcf577d9",
   "metadata": {},
   "outputs": [],
   "source": []
  }
 ],
 "metadata": {
  "kernelspec": {
   "display_name": "Python 3 (ipykernel)",
   "language": "python",
   "name": "python3"
  },
  "language_info": {
   "codemirror_mode": {
    "name": "ipython",
    "version": 3
   },
   "file_extension": ".py",
   "mimetype": "text/x-python",
   "name": "python",
   "nbconvert_exporter": "python",
   "pygments_lexer": "ipython3",
   "version": "3.8.10"
  }
 },
 "nbformat": 4,
 "nbformat_minor": 5
}
