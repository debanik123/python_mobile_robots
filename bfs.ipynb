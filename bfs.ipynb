{
 "cells": [
  {
   "cell_type": "code",
   "execution_count": 184,
   "id": "4ab827a2",
   "metadata": {},
   "outputs": [
    {
     "name": "stdout",
     "output_type": "stream",
     "text": [
      "4\n",
      "5\n"
     ]
    }
   ],
   "source": [
    "# print(len(g)) #x\n",
    "# print(len(g[0])) #y"
   ]
  },
  {
   "cell_type": "code",
   "execution_count": 199,
   "id": "31dd775f",
   "metadata": {},
   "outputs": [
    {
     "name": "stdout",
     "output_type": "stream",
     "text": [
      "0 4 1 5 8 9 2 6 10 12 13 14 3 7 11 15 "
     ]
    }
   ],
   "source": [
    "import numpy as np\n",
    "from collections import deque as Q\n",
    "\n",
    "# direction vectors\n",
    "dx = [-1, 1, 0, 0, -1, -1, 1, 1]\n",
    "dy = [0, 0, -1, 1, -1, 1, -1, 1]\n",
    "\n",
    "# function for cell if a cell visited or not\n",
    "def isValid(vis, x,y, grid):\n",
    "    \n",
    "    #if cell lies out of bounds\n",
    "    if(x<0 or y<0 or x>=len(grid) or y>=len(grid[0])):\n",
    "        return False\n",
    "    \n",
    "    # if cell is already visited\n",
    "    if(vis[x][y]):\n",
    "        return False\n",
    "    \n",
    "    return True\n",
    "\n",
    "\n",
    "def bfs(grid, vis, x_, y_):\n",
    "    q = Q()\n",
    "    \n",
    "    q.append((x_, y_))\n",
    "    vis[x_][y_] = True\n",
    "    \n",
    "    while (len(q)>0):\n",
    "        cell = q.popleft()\n",
    "        x,y = cell[0],cell[1]\n",
    "        print(grid[x][y], end=\" \")\n",
    "        \n",
    "        for i in range(len(dx)):\n",
    "            adj_x = x + dx[i]\n",
    "            adj_y = y + dy[i]\n",
    "            \n",
    "            if (isValid(vis, adj_x, adj_y, grid)):\n",
    "                q.append((adj_x, adj_y))\n",
    "                vis[adj_x][adj_y] = True\n",
    "\n",
    "vis = [[False for i in range(4)] for i in range(4)]\n",
    "\n",
    "grid = []\n",
    "k = 0\n",
    "grid = []\n",
    "for i in range(4):\n",
    "    j_load = []\n",
    "    for j in range(4):\n",
    "        j_load.append(k)\n",
    "        k+=1\n",
    "    grid.append(j_load)\n",
    "grid = np.array(grid)\n",
    "vis = np.array(vis)\n",
    "\n",
    "bfs(grid, vis, 0,0)"
   ]
  },
  {
   "cell_type": "code",
   "execution_count": 200,
   "id": "5f5433ed",
   "metadata": {},
   "outputs": [
    {
     "data": {
      "text/plain": [
       "array([[ 0,  1,  2,  3],\n",
       "       [ 4,  5,  6,  7],\n",
       "       [ 8,  9, 10, 11],\n",
       "       [12, 13, 14, 15]])"
      ]
     },
     "execution_count": 200,
     "metadata": {},
     "output_type": "execute_result"
    }
   ],
   "source": [
    "grid"
   ]
  },
  {
   "cell_type": "code",
   "execution_count": 201,
   "id": "bf9e72b6",
   "metadata": {},
   "outputs": [
    {
     "name": "stdout",
     "output_type": "stream",
     "text": [
      "0 4 1 8 5 2 12 9 6 3 13 10 7 14 11 15 "
     ]
    }
   ],
   "source": [
    "import numpy as np\n",
    "from collections import deque as Q\n",
    "\n",
    "# direction vectors\n",
    "dx = [-1, 1, 0, 0, -1, -1, 1, 1]\n",
    "dy = [0, 0, -1, 1, -1, 1, -1, 1]\n",
    "\n",
    "# function for cell if a cell visited or not\n",
    "def isValid(vis, x,y, grid):\n",
    "    \n",
    "    #if cell lies out of bounds\n",
    "    if(x<0 or y<0 or x>=len(grid) or y>=len(grid[0])):\n",
    "        return False\n",
    "    \n",
    "    # if cell is already visited\n",
    "    if(vis[x][y]):\n",
    "        return False\n",
    "    \n",
    "    return True\n",
    "\n",
    "\n",
    "def bfs(grid, vis, x_, y_):\n",
    "    q = Q()\n",
    "    \n",
    "    q.append((x_, y_))\n",
    "    vis[x_][y_] = True\n",
    "    \n",
    "    while (len(q)>0):\n",
    "        cell = q.popleft()\n",
    "        x,y = cell[0],cell[1]\n",
    "        print(grid[x][y], end=\" \")\n",
    "        \n",
    "        for i in range(len(dx)-4):\n",
    "            adj_x = x + dx[i]\n",
    "            adj_y = y + dy[i]\n",
    "            \n",
    "            if (isValid(vis, adj_x, adj_y, grid)):\n",
    "                q.append((adj_x, adj_y))\n",
    "                vis[adj_x][adj_y] = True\n",
    "\n",
    "vis = [[False for i in range(4)] for i in range(4)]\n",
    "\n",
    "grid = []\n",
    "k = 0\n",
    "grid = []\n",
    "for i in range(4):\n",
    "    j_load = []\n",
    "    for j in range(4):\n",
    "        j_load.append(k)\n",
    "        k+=1\n",
    "    grid.append(j_load)\n",
    "grid = np.array(grid)\n",
    "vis = np.array(vis)\n",
    "\n",
    "bfs(grid, vis, 0,0)"
   ]
  },
  {
   "cell_type": "code",
   "execution_count": null,
   "id": "7f09a11f",
   "metadata": {},
   "outputs": [],
   "source": []
  }
 ],
 "metadata": {
  "kernelspec": {
   "display_name": "Python 3 (ipykernel)",
   "language": "python",
   "name": "python3"
  },
  "language_info": {
   "codemirror_mode": {
    "name": "ipython",
    "version": 3
   },
   "file_extension": ".py",
   "mimetype": "text/x-python",
   "name": "python",
   "nbconvert_exporter": "python",
   "pygments_lexer": "ipython3",
   "version": "3.8.10"
  }
 },
 "nbformat": 4,
 "nbformat_minor": 5
}
