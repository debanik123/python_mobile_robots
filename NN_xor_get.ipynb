{
 "cells": [
  {
   "cell_type": "code",
   "execution_count": 72,
   "id": "c76b34a0-dd74-43b4-9981-5d3d68e963a7",
   "metadata": {},
   "outputs": [],
   "source": [
    "import numpy as np"
   ]
  },
  {
   "cell_type": "code",
   "execution_count": 73,
   "id": "c6ce84c0-6d00-4f9e-b359-e18c39ccf0ec",
   "metadata": {},
   "outputs": [],
   "source": [
    "class XOR(object):\n",
    "    def __init__(self):\n",
    "        self.b1 = 0\n",
    "        self.b2 = 0\n",
    "        \n",
    "    def sigmoid(self,z):\n",
    "        z = 1/(1+np.exp(-z))\n",
    "        return z\n",
    "    \n",
    "    def forward(self,w1,w2,x):\n",
    "        z1 = np.dot(w1,x)+self.b1\n",
    "        y_hat1 = self.sigmoid(z1)\n",
    "        \n",
    "        z2 = np.dot(w2,y_hat1)+self.b2\n",
    "        y_hat2 = self.sigmoid(z2)\n",
    "        \n",
    "        \n",
    "        return z1, y_hat1, z2, y_hat2\n",
    "    \n",
    "    def back_grad(self, m, w1, w2, z1, y_hat1, z2, y_hat2, y, x):\n",
    "        \n",
    "        dz2 = y_hat2-y\n",
    "        dw2 = np.dot(dz2, y_hat1.T)/m\n",
    "        \n",
    "        dz1 = np.dot(w2.T, dz2) * y_hat1 * (1-y_hat1)\n",
    "        dw1 = np.dot(dz1, x.T)/m\n",
    "        \n",
    "        dw1 = np.reshape(dw1, w1.shape)\n",
    "        dw2 = np.reshape(dw2, w2.shape)\n",
    "        \n",
    "        return dz2, dw2, dz1, dw1\n",
    "    \n",
    "    def loss(self, t, t_hat, m):\n",
    "        lo = -(1/m)*np.sum(t*np.log(t_hat)+(1-t)*np.log(1-t_hat))        \n",
    "        return lo\n",
    "    \n",
    "    def optmizer(self, w1, w2, dw1, dw2, lr):\n",
    "        w2 = w2 - lr*dw2\n",
    "        w1 = w1 - lr*dw1\n",
    "        return w2, w1\n",
    "        "
   ]
  },
  {
   "cell_type": "code",
   "execution_count": null,
   "id": "557b8935-a942-4f9f-bdc7-ee7586549d19",
   "metadata": {},
   "outputs": [
    {
     "name": "stdout",
     "output_type": "stream",
     "text": [
      "[[0.48673177 0.09105519]\n",
      " [0.89984324 0.84681383]] [[0.490645  0.9317092]]\n"
     ]
    }
   ],
   "source": [
    "xor = XOR()\n",
    "w1 = np.random.rand(2,2)\n",
    "w2 = np.random.rand(1,2)\n",
    "print(w1, w2)\n",
    "x = np.array([[0,0,1,1],[0,1,0,1]])\n",
    "m = len(x[1])\n",
    "lr = 0.1\n",
    "y=np.array([[0,1,1,0]])\n",
    "\n",
    "losses = []\n",
    "for i in range(10000000):\n",
    "    z1, y_hat1, z2, y_hat2 = xor.forward(w1,w2,x)\n",
    "    # print(z1, y_hat1, z2, y_hat2)\n",
    "    log_loss = xor.loss(y, y_hat2, m)\n",
    "    losses.append(log_loss)\n",
    "    \n",
    "    dz2, dw2, dz1, dw1 = xor.back_grad(m, w1, w2, z1, y_hat1, z2, y_hat2, y, x)\n",
    "    \n",
    "    w2, w1 = xor.optmizer(w1, w2, dw1, dw2, lr)\n",
    "    \n",
    "    # print(\"w2------->\",w2,\"w1---->\",w1)\n",
    "\n",
    "    \n",
    "    "
   ]
  },
  {
   "cell_type": "code",
   "execution_count": 66,
   "id": "9a64980a-67e3-4f97-8316-54c6dec0e7c3",
   "metadata": {},
   "outputs": [
    {
     "name": "stdout",
     "output_type": "stream",
     "text": [
      "[[5.18689616e-04 9.97099020e-01 9.97099020e-01 5.11597325e-03]]\n",
      "[[0. 1. 1. 0.]]\n"
     ]
    }
   ],
   "source": [
    "# array([[0, 0],\n",
    "#        [0, 1],\n",
    "#        [1, 0],\n",
    "#        [1, 1]])\n",
    "z1, y_hat1, z2, y_hat2 = xor.forward(w1,w2,x)\n",
    "print(y_hat2)\n",
    "prediction = (y_hat2 > 0.5) *1.0\n",
    "print(prediction)"
   ]
  },
  {
   "cell_type": "code",
   "execution_count": 67,
   "id": "3a4cbd6e-ec5a-47bd-af38-766b03c29332",
   "metadata": {},
   "outputs": [],
   "source": [
    "import matplotlib.pyplot as plt"
   ]
  },
  {
   "cell_type": "code",
   "execution_count": 68,
   "id": "d6547f3d-133c-46da-b7bf-2bb2551d6c8c",
   "metadata": {},
   "outputs": [
    {
     "data": {
      "image/png": "[encoded data removed]",
      "text/plain": [
       "<Figure size 432x288 with 1 Axes>"
      ]
     },
     "metadata": {
      "needs_background": "light"
     },
     "output_type": "display_data"
    }
   ],
   "source": [
    "plt.plot(losses)\n",
    "plt.xlabel(\"epochs\")\n",
    "plt.ylabel(\"log losses\")\n",
    "plt.show()"
   ]
  },
  {
   "cell_type": "code",
   "execution_count": 70,
   "id": "e4ae76a2-5934-45cf-84d3-b8cfd5de8bc8",
   "metadata": {},
   "outputs": [
    {
     "data": {
      "text/plain": [
       "0.8184716099509778"
      ]
     },
     "execution_count": 70,
     "metadata": {},
     "output_type": "execute_result"
    }
   ],
   "source": [
    "np.max(losses)"
   ]
  },
  {
   "cell_type": "code",
   "execution_count": 71,
   "id": "5675bc20-3861-4d0a-b4c8-0d94fe8ef999",
   "metadata": {},
   "outputs": [
    {
     "data": {
      "text/plain": [
       "0.18152839004902221"
      ]
     },
     "execution_count": 71,
     "metadata": {},
     "output_type": "execute_result"
    }
   ],
   "source": [
    "1-np.max(losses)"
   ]
  },
  {
   "cell_type": "code",
   "execution_count": null,
   "id": "7fffed8e-4211-465d-9e7d-ef2bf62192ff",
   "metadata": {},
   "outputs": [],
   "source": []
  },
  {
   "cell_type": "code",
   "execution_count": null,
   "id": "4e308c81-fa01-49f5-b053-a2ce1c7f9515",
   "metadata": {},
   "outputs": [],
   "source": []
  }
 ],
 "metadata": {
  "kernelspec": {
   "display_name": "Python 3 (ipykernel)",
   "language": "python",
   "name": "python3"
  },
  "language_info": {
   "codemirror_mode": {
    "name": "ipython",
    "version": 3
   },
   "file_extension": ".py",
   "mimetype": "text/x-python",
   "name": "python",
   "nbconvert_exporter": "python",
   "pygments_lexer": "ipython3",
   "version": "3.8.10"
  }
 },
 "nbformat": 4,
 "nbformat_minor": 5
}
