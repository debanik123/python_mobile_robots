{
 "cells": [
  {
   "cell_type": "code",
   "execution_count": 167,
   "id": "13c29171",
   "metadata": {},
   "outputs": [],
   "source": [
    "vis = [[False for i in range(4)] for i in range(4)]\n",
    "\n",
    "grid = []\n",
    "k = 0\n",
    "grid = []\n",
    "for i in range(4):\n",
    "    j_load = []\n",
    "    for j in range(4):\n",
    "        j_load.append(k)\n",
    "        k+=1\n",
    "    grid.append(j_load)"
   ]
  },
  {
   "cell_type": "code",
   "execution_count": 168,
   "id": "2efe3bd2",
   "metadata": {},
   "outputs": [],
   "source": [
    "import numpy as np\n",
    "grid = np.array(grid)\n",
    "vis = np.array(vis)"
   ]
  },
  {
   "cell_type": "code",
   "execution_count": 169,
   "id": "9a4c2879",
   "metadata": {},
   "outputs": [
    {
     "name": "stdout",
     "output_type": "stream",
     "text": [
      "4\n",
      "5\n"
     ]
    }
   ],
   "source": [
    "print(len(g)) #x\n",
    "print(len(g[0])) #y"
   ]
  },
  {
   "cell_type": "code",
   "execution_count": 170,
   "id": "4b897bf9",
   "metadata": {},
   "outputs": [],
   "source": []
  },
  {
   "cell_type": "code",
   "execution_count": 171,
   "id": "73fd34da",
   "metadata": {},
   "outputs": [],
   "source": []
  },
  {
   "cell_type": "code",
   "execution_count": 172,
   "id": "e6962c9c",
   "metadata": {},
   "outputs": [],
   "source": [
    "from collections import deque as Q\n",
    "\n",
    "# direction vectors\n",
    "dx = [-1, 1, 0, 0, -1, -1, 1, 1]\n",
    "dy = [0, 0, -1, 1, -1, 1, -1, 1]\n",
    "\n",
    "# function for cell if a cell visited or not\n",
    "def isValid(vis, x,y, grid):\n",
    "    \n",
    "    #if cell lies out of bounds\n",
    "    if(x<0 or y<0 or x>=len(grid) or y>=len(grid[0])):\n",
    "        return False\n",
    "    \n",
    "    # if cell is already visited\n",
    "    if(vis[x][y]):\n",
    "        return False\n",
    "    \n",
    "    return True\n",
    "\n",
    "\n",
    "def bfs(grid, vis, x_, y_):\n",
    "    q = Q()\n",
    "    \n",
    "    q.append((x_, y_))\n",
    "    vis[x_][y_] = True\n",
    "    \n",
    "    while (len(q)>0):\n",
    "        cell = q.popleft()\n",
    "        x,y = cell[0],cell[1]\n",
    "        print(grid[x][y], end=\" \")\n",
    "        \n",
    "        for i in range(len(dx)-4):\n",
    "            adj_x = x + dx[i]\n",
    "            adj_y = y + dy[i]\n",
    "            \n",
    "            if (isValid(vis, adj_x, adj_y, grid)):\n",
    "                q.append((adj_x, adj_y))\n",
    "                vis[adj_x][adj_y] = True"
   ]
  },
  {
   "cell_type": "code",
   "execution_count": 173,
   "id": "95315a06",
   "metadata": {},
   "outputs": [],
   "source": []
  },
  {
   "cell_type": "code",
   "execution_count": 174,
   "id": "a6fb9767",
   "metadata": {},
   "outputs": [
    {
     "name": "stdout",
     "output_type": "stream",
     "text": [
      "10 6 14 9 11 2 5 7 13 15 8 1 3 4 12 0 "
     ]
    }
   ],
   "source": [
    "bfs(grid, vis, 2,2)"
   ]
  },
  {
   "cell_type": "code",
   "execution_count": 175,
   "id": "701ee412",
   "metadata": {},
   "outputs": [
    {
     "data": {
      "text/plain": [
       "array([[ 0,  1,  2,  3],\n",
       "       [ 4,  5,  6,  7],\n",
       "       [ 8,  9, 10, 11],\n",
       "       [12, 13, 14, 15]])"
      ]
     },
     "execution_count": 175,
     "metadata": {},
     "output_type": "execute_result"
    }
   ],
   "source": [
    "grid"
   ]
  },
  {
   "cell_type": "code",
   "execution_count": null,
   "id": "062534fc",
   "metadata": {},
   "outputs": [],
   "source": []
  }
 ],
 "metadata": {
  "kernelspec": {
   "display_name": "Python 3 (ipykernel)",
   "language": "python",
   "name": "python3"
  },
  "language_info": {
   "codemirror_mode": {
    "name": "ipython",
    "version": 3
   },
   "file_extension": ".py",
   "mimetype": "text/x-python",
   "name": "python",
   "nbconvert_exporter": "python",
   "pygments_lexer": "ipython3",
   "version": "3.8.10"
  }
 },
 "nbformat": 4,
 "nbformat_minor": 5
}
