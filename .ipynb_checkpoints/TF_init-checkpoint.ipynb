{
 "cells": [
  {
   "cell_type": "code",
   "execution_count": 40,
   "id": "71655c7d-abf6-4a9b-9f21-d49bc4d09d41",
   "metadata": {},
   "outputs": [],
   "source": [
    "import numpy as np\n",
    "import warnings\n",
    "warnings.filterwarnings('ignore')"
   ]
  },
  {
   "cell_type": "code",
   "execution_count": 41,
   "id": "211e3df8-bedd-463c-ab75-61fff2b77f84",
   "metadata": {},
   "outputs": [],
   "source": [
    "a = np.array(np.random.randint(10))"
   ]
  },
  {
   "cell_type": "code",
   "execution_count": 42,
   "id": "6476fa65-d704-4eb4-ac25-3ff249c769e9",
   "metadata": {},
   "outputs": [
    {
     "data": {
      "text/plain": [
       "array(2)"
      ]
     },
     "execution_count": 42,
     "metadata": {},
     "output_type": "execute_result"
    }
   ],
   "source": [
    "a"
   ]
  },
  {
   "cell_type": "code",
   "execution_count": 43,
   "id": "8bdfddd7-f899-463e-b732-edb21ef5695c",
   "metadata": {},
   "outputs": [
    {
     "data": {
      "text/plain": [
       "7"
      ]
     },
     "execution_count": 43,
     "metadata": {},
     "output_type": "execute_result"
    }
   ],
   "source": [
    "np.random.randint(1,10)"
   ]
  },
  {
   "cell_type": "code",
   "execution_count": 44,
   "id": "9285d79f-30ee-4fc5-9107-f4cdb31c21a2",
   "metadata": {},
   "outputs": [
    {
     "data": {
      "text/plain": [
       "array([[1., 0., 0., ..., 0., 0., 0.],\n",
       "       [0., 1., 0., ..., 0., 0., 0.],\n",
       "       [0., 0., 1., ..., 0., 0., 0.],\n",
       "       ...,\n",
       "       [0., 0., 0., ..., 1., 0., 0.],\n",
       "       [0., 0., 0., ..., 0., 1., 0.],\n",
       "       [0., 0., 0., ..., 0., 0., 1.]])"
      ]
     },
     "execution_count": 44,
     "metadata": {},
     "output_type": "execute_result"
    }
   ],
   "source": [
    "np.eye(5000,5000)"
   ]
  },
  {
   "cell_type": "code",
   "execution_count": 45,
   "id": "60f2b601-e468-4661-812f-494b4986ca99",
   "metadata": {},
   "outputs": [
    {
     "data": {
      "text/plain": [
       "array([0.61697558, 0.45577687, 0.11833114, 0.7002742 , 0.34011975])"
      ]
     },
     "execution_count": 45,
     "metadata": {},
     "output_type": "execute_result"
    }
   ],
   "source": [
    "np.random.random((5))"
   ]
  },
  {
   "cell_type": "code",
   "execution_count": 46,
   "id": "6f0990c3-d176-4afd-9642-a435da17f4ba",
   "metadata": {},
   "outputs": [
    {
     "data": {
      "text/plain": [
       "array([[1., 1.],\n",
       "       [1., 1.],\n",
       "       [1., 1.]])"
      ]
     },
     "execution_count": 46,
     "metadata": {},
     "output_type": "execute_result"
    }
   ],
   "source": [
    "np.empty((3,2))"
   ]
  },
  {
   "cell_type": "code",
   "execution_count": 47,
   "id": "9d131e1c-60df-4d9b-b47a-1a8416590e2a",
   "metadata": {},
   "outputs": [],
   "source": [
    "a = np.array(np.random.random((3,2)))\n",
    "b = np.array(np.random.random((1,2)))"
   ]
  },
  {
   "cell_type": "code",
   "execution_count": 48,
   "id": "96905265-0656-4c3c-9520-e0542f54c4cb",
   "metadata": {},
   "outputs": [
    {
     "data": {
      "text/plain": [
       "array([[0.02893371],\n",
       "       [0.12831031],\n",
       "       [0.11073813]])"
      ]
     },
     "execution_count": 48,
     "metadata": {},
     "output_type": "execute_result"
    }
   ],
   "source": [
    "np.dot(a,b.T)"
   ]
  },
  {
   "cell_type": "code",
   "execution_count": 49,
   "id": "d0c95bbf-4e37-4bd1-afef-b5687b137df0",
   "metadata": {},
   "outputs": [
    {
     "data": {
      "text/plain": [
       "0.27891968042003445"
      ]
     },
     "execution_count": 49,
     "metadata": {},
     "output_type": "execute_result"
    }
   ],
   "source": [
    " np.std(a) "
   ]
  },
  {
   "cell_type": "code",
   "execution_count": 50,
   "id": "b1789642-6b0d-4853-babb-00b3f32ec210",
   "metadata": {},
   "outputs": [
    {
     "name": "stdout",
     "output_type": "stream",
     "text": [
      "Defaulting to user installation because normal site-packages is not writeable\n",
      "Requirement already satisfied: pip in /home/debanik/.local/lib/python3.8/site-packages (22.0.4)\n"
     ]
    }
   ],
   "source": [
    "!pip install --upgrade pip"
   ]
  },
  {
   "cell_type": "code",
   "execution_count": 51,
   "id": "0812eeeb-6d92-49c0-b3f6-b15d84d1f5f9",
   "metadata": {},
   "outputs": [
    {
     "name": "stdout",
     "output_type": "stream",
     "text": [
      "Defaulting to user installation because normal site-packages is not writeable\n",
      "Requirement already satisfied: tensorflow in /home/debanik/.local/lib/python3.8/site-packages (2.8.0)\n",
      "Requirement already satisfied: libclang>=9.0.1 in /home/debanik/.local/lib/python3.8/site-packages (from tensorflow) (13.0.0)\n",
      "Requirement already satisfied: six>=1.12.0 in /usr/lib/python3/dist-packages (from tensorflow) (1.14.0)\n",
      "Requirement already satisfied: flatbuffers>=1.12 in /home/debanik/.local/lib/python3.8/site-packages (from tensorflow) (2.0)\n",
      "Requirement already satisfied: termcolor>=1.1.0 in /usr/lib/python3/dist-packages (from tensorflow) (1.1.0)\n",
      "Requirement already satisfied: keras<2.9,>=2.8.0rc0 in /home/debanik/.local/lib/python3.8/site-packages (from tensorflow) (2.8.0)\n",
      "Requirement already satisfied: astunparse>=1.6.0 in /home/debanik/.local/lib/python3.8/site-packages (from tensorflow) (1.6.3)\n",
      "Requirement already satisfied: typing-extensions>=3.6.6 in /home/debanik/.local/lib/python3.8/site-packages (from tensorflow) (4.1.1)\n",
      "Requirement already satisfied: numpy>=1.20 in /home/debanik/.local/lib/python3.8/site-packages (from tensorflow) (1.22.2)\n",
      "Requirement already satisfied: setuptools in /usr/lib/python3/dist-packages (from tensorflow) (45.2.0)\n",
      "Requirement already satisfied: keras-preprocessing>=1.1.1 in /home/debanik/.local/lib/python3.8/site-packages (from tensorflow) (1.1.2)\n",
      "Requirement already satisfied: opt-einsum>=2.3.2 in /home/debanik/.local/lib/python3.8/site-packages (from tensorflow) (3.3.0)\n",
      "Requirement already satisfied: grpcio<2.0,>=1.24.3 in /home/debanik/.local/lib/python3.8/site-packages (from tensorflow) (1.44.0)\n",
      "Requirement already satisfied: h5py>=2.9.0 in /home/debanik/.local/lib/python3.8/site-packages (from tensorflow) (3.6.0)\n",
      "Requirement already satisfied: tf-estimator-nightly==2.8.0.dev2021122109 in /home/debanik/.local/lib/python3.8/site-packages (from tensorflow) (2.8.0.dev2021122109)\n",
      "Requirement already satisfied: google-pasta>=0.1.1 in /home/debanik/.local/lib/python3.8/site-packages (from tensorflow) (0.2.0)\n",
      "Requirement already satisfied: protobuf>=3.9.2 in /home/debanik/.local/lib/python3.8/site-packages (from tensorflow) (3.20.0)\n",
      "Requirement already satisfied: wrapt>=1.11.0 in /usr/lib/python3/dist-packages (from tensorflow) (1.11.2)\n",
      "Requirement already satisfied: tensorboard<2.9,>=2.8 in /home/debanik/.local/lib/python3.8/site-packages (from tensorflow) (2.8.0)\n",
      "Requirement already satisfied: gast>=0.2.1 in /home/debanik/.local/lib/python3.8/site-packages (from tensorflow) (0.5.3)\n",
      "Requirement already satisfied: tensorflow-io-gcs-filesystem>=0.23.1 in /home/debanik/.local/lib/python3.8/site-packages (from tensorflow) (0.24.0)\n",
      "Requirement already satisfied: absl-py>=0.4.0 in /home/debanik/.local/lib/python3.8/site-packages (from tensorflow) (1.0.0)\n",
      "Requirement already satisfied: wheel<1.0,>=0.23.0 in /usr/lib/python3/dist-packages (from astunparse>=1.6.0->tensorflow) (0.34.2)\n",
      "Requirement already satisfied: werkzeug>=0.11.15 in /home/debanik/.local/lib/python3.8/site-packages (from tensorboard<2.9,>=2.8->tensorflow) (2.1.1)\n",
      "Requirement already satisfied: google-auth-oauthlib<0.5,>=0.4.1 in /home/debanik/.local/lib/python3.8/site-packages (from tensorboard<2.9,>=2.8->tensorflow) (0.4.6)\n",
      "Requirement already satisfied: requests<3,>=2.21.0 in /usr/lib/python3/dist-packages (from tensorboard<2.9,>=2.8->tensorflow) (2.22.0)\n",
      "Requirement already satisfied: tensorboard-plugin-wit>=1.6.0 in /home/debanik/.local/lib/python3.8/site-packages (from tensorboard<2.9,>=2.8->tensorflow) (1.8.1)\n",
      "Requirement already satisfied: google-auth<3,>=1.6.3 in /home/debanik/.local/lib/python3.8/site-packages (from tensorboard<2.9,>=2.8->tensorflow) (2.6.3)\n",
      "Requirement already satisfied: markdown>=2.6.8 in /home/debanik/.local/lib/python3.8/site-packages (from tensorboard<2.9,>=2.8->tensorflow) (3.3.6)\n",
      "Requirement already satisfied: tensorboard-data-server<0.7.0,>=0.6.0 in /home/debanik/.local/lib/python3.8/site-packages (from tensorboard<2.9,>=2.8->tensorflow) (0.6.1)\n",
      "Requirement already satisfied: pyasn1-modules>=0.2.1 in /usr/lib/python3/dist-packages (from google-auth<3,>=1.6.3->tensorboard<2.9,>=2.8->tensorflow) (0.2.1)\n",
      "Requirement already satisfied: rsa<5,>=3.1.4 in /usr/lib/python3/dist-packages (from google-auth<3,>=1.6.3->tensorboard<2.9,>=2.8->tensorflow) (4.0)\n",
      "Requirement already satisfied: cachetools<6.0,>=2.0.0 in /home/debanik/.local/lib/python3.8/site-packages (from google-auth<3,>=1.6.3->tensorboard<2.9,>=2.8->tensorflow) (5.0.0)\n",
      "Requirement already satisfied: requests-oauthlib>=0.7.0 in /home/debanik/.local/lib/python3.8/site-packages (from google-auth-oauthlib<0.5,>=0.4.1->tensorboard<2.9,>=2.8->tensorflow) (1.3.1)\n",
      "Requirement already satisfied: importlib-metadata>=4.4 in /home/debanik/.local/lib/python3.8/site-packages (from markdown>=2.6.8->tensorboard<2.9,>=2.8->tensorflow) (4.11.3)\n",
      "Requirement already satisfied: zipp>=0.5 in /usr/lib/python3/dist-packages (from importlib-metadata>=4.4->markdown>=2.6.8->tensorboard<2.9,>=2.8->tensorflow) (1.0.0)\n",
      "Requirement already satisfied: oauthlib>=3.0.0 in /usr/lib/python3/dist-packages (from requests-oauthlib>=0.7.0->google-auth-oauthlib<0.5,>=0.4.1->tensorboard<2.9,>=2.8->tensorflow) (3.1.0)\n"
     ]
    }
   ],
   "source": [
    "!pip install tensorflow"
   ]
  },
  {
   "cell_type": "code",
   "execution_count": 52,
   "id": "aa883dce-1fad-4e1a-8638-e53e873bb8e9",
   "metadata": {},
   "outputs": [
    {
     "data": {
      "text/plain": [
       "'2.8.0'"
      ]
     },
     "execution_count": 52,
     "metadata": {},
     "output_type": "execute_result"
    }
   ],
   "source": [
    "import tensorflow as tf\n",
    "from tensorflow.keras import datasets, layers, models\n",
    "from tensorflow.keras.layers import Dense, Flatten, Dropout\n",
    "tf.__version__"
   ]
  },
  {
   "cell_type": "code",
   "execution_count": 53,
   "id": "5a378c8a-a53e-4bcc-8ab4-255a66cd0613",
   "metadata": {},
   "outputs": [],
   "source": [
    "mnist = datasets.mnist"
   ]
  },
  {
   "cell_type": "code",
   "execution_count": 54,
   "id": "846f82b6-99be-4e4e-82ca-557387c21d8e",
   "metadata": {},
   "outputs": [],
   "source": [
    "(x_train, y_train), (x_test, y_test) = mnist.load_data()\n",
    "x_train, x_test = x_train/255.0, x_test/255.0"
   ]
  },
  {
   "cell_type": "code",
   "execution_count": 55,
   "id": "775d5344-fcc1-454c-97e1-ac1a21e137c4",
   "metadata": {},
   "outputs": [],
   "source": []
  },
  {
   "cell_type": "code",
   "execution_count": 56,
   "id": "692c49d8-0902-4c4e-b4ef-85a4afed9052",
   "metadata": {},
   "outputs": [],
   "source": [
    "model = models.Sequential([Flatten(input_shape=(28,28)),\n",
    "                           Dense(1024, activation=tf.nn.leaky_relu),\n",
    "                           Dropout(0.3),\n",
    "                           Dense(512, activation=tf.nn.leaky_relu),\n",
    "                           Dropout(0.2),\n",
    "                           Dense(10, activation=tf.nn.softmax)])"
   ]
  },
  {
   "cell_type": "code",
   "execution_count": 57,
   "id": "b56bd04e-3251-42d0-b94c-fe9332348dbd",
   "metadata": {},
   "outputs": [],
   "source": [
    "model.compile(optimizer=\"adam\",\n",
    "              loss=\"sparse_categorical_crossentropy\",\n",
    "              metrics=[\"accuracy\"])"
   ]
  },
  {
   "cell_type": "code",
   "execution_count": 58,
   "id": "c58e01c3-db30-4f79-b5ce-a739c10f9569",
   "metadata": {},
   "outputs": [
    {
     "name": "stdout",
     "output_type": "stream",
     "text": [
      "Epoch 1/5\n"
     ]
    },
    {
     "name": "stderr",
     "output_type": "stream",
     "text": [
      "2022-04-08 15:54:22.839034: W tensorflow/core/framework/cpu_allocator_impl.cc:82] Allocation of 188160000 exceeds 10% of free system memory.\n"
     ]
    },
    {
     "name": "stdout",
     "output_type": "stream",
     "text": [
      "1875/1875 [==============================] - 23s 12ms/step - loss: 0.2509 - accuracy: 0.9239\n",
      "Epoch 2/5\n",
      "1875/1875 [==============================] - 23s 12ms/step - loss: 0.1547 - accuracy: 0.9540\n",
      "Epoch 3/5\n",
      "1875/1875 [==============================] - 23s 12ms/step - loss: 0.1384 - accuracy: 0.9596\n",
      "Epoch 4/5\n",
      "1875/1875 [==============================] - 23s 12ms/step - loss: 0.1309 - accuracy: 0.9633\n",
      "Epoch 5/5\n",
      "1875/1875 [==============================] - 23s 12ms/step - loss: 0.1232 - accuracy: 0.9653\n"
     ]
    },
    {
     "data": {
      "text/plain": [
       "<keras.callbacks.History at 0x7f59f1814190>"
      ]
     },
     "execution_count": 58,
     "metadata": {},
     "output_type": "execute_result"
    }
   ],
   "source": [
    "model.fit(x_train, y_train, epochs=5)"
   ]
  },
  {
   "cell_type": "code",
   "execution_count": 59,
   "id": "8e9fe560-5b31-4241-8a75-fc582943c00b",
   "metadata": {},
   "outputs": [
    {
     "name": "stderr",
     "output_type": "stream",
     "text": [
      "2022-04-08 15:56:41.619193: W tensorflow/core/framework/cpu_allocator_impl.cc:82] Allocation of 31360000 exceeds 10% of free system memory.\n"
     ]
    },
    {
     "name": "stdout",
     "output_type": "stream",
     "text": [
      "313/313 [==============================] - 2s 4ms/step - loss: 0.1249 - accuracy: 0.9691\n"
     ]
    },
    {
     "data": {
      "text/plain": [
       "[0.12488000839948654, 0.9690999984741211]"
      ]
     },
     "execution_count": 59,
     "metadata": {},
     "output_type": "execute_result"
    }
   ],
   "source": [
    "model.evaluate(x_test, y_test)"
   ]
  },
  {
   "cell_type": "code",
   "execution_count": 60,
   "id": "331d0dc0-446f-4318-b9eb-81a51f3650a4",
   "metadata": {},
   "outputs": [],
   "source": [
    "ip = tf.keras.Input(shape=(28,28))"
   ]
  },
  {
   "cell_type": "code",
   "execution_count": 61,
   "id": "7431b333-4d6e-4cf1-b37f-ac1a48ed5ea6",
   "metadata": {},
   "outputs": [],
   "source": [
    "x = Flatten()(ip)\n",
    "x = Dense(1024, activation=tf.nn.leaky_relu)(x)\n",
    "x = Dropout(0.3)(x)\n",
    "x = Dense(512, activation=tf.nn.leaky_relu)(x)\n",
    "x = Dropout(0.2)(x)\n",
    "x = Dense(10, activation=tf.nn.softmax)(x)"
   ]
  },
  {
   "cell_type": "code",
   "execution_count": 62,
   "id": "f189d04f-2aa9-445e-b2f0-59426c1277d8",
   "metadata": {},
   "outputs": [],
   "source": [
    "model = tf.keras.models.Model(inputs=ip, outputs=x)"
   ]
  },
  {
   "cell_type": "code",
   "execution_count": 63,
   "id": "026c3925-0d2c-486d-b3d7-824cc8fd5f86",
   "metadata": {},
   "outputs": [
    {
     "name": "stdout",
     "output_type": "stream",
     "text": [
      "Model: \"model\"\n",
      "_________________________________________________________________\n",
      " Layer (type)                Output Shape              Param #   \n",
      "=================================================================\n",
      " input_1 (InputLayer)        [(None, 28, 28)]          0         \n",
      "                                                                 \n",
      " flatten_2 (Flatten)         (None, 784)               0         \n",
      "                                                                 \n",
      " dense_6 (Dense)             (None, 1024)              803840    \n",
      "                                                                 \n",
      " dropout_4 (Dropout)         (None, 1024)              0         \n",
      "                                                                 \n",
      " dense_7 (Dense)             (None, 512)               524800    \n",
      "                                                                 \n",
      " dropout_5 (Dropout)         (None, 512)               0         \n",
      "                                                                 \n",
      " dense_8 (Dense)             (None, 10)                5130      \n",
      "                                                                 \n",
      "=================================================================\n",
      "Total params: 1,333,770\n",
      "Trainable params: 1,333,770\n",
      "Non-trainable params: 0\n",
      "_________________________________________________________________\n"
     ]
    }
   ],
   "source": [
    "model.summary()"
   ]
  },
  {
   "cell_type": "code",
   "execution_count": 64,
   "id": "8858b8f1-b3d1-4a64-b914-0e8d954cbc97",
   "metadata": {},
   "outputs": [],
   "source": [
    "model.compile(optimizer=\"adam\",\n",
    "              loss=\"sparse_categorical_crossentropy\",\n",
    "              metrics=[\"accuracy\"])"
   ]
  },
  {
   "cell_type": "code",
   "execution_count": 66,
   "id": "37215967-452f-45d8-9513-db581e5f4e94",
   "metadata": {},
   "outputs": [
    {
     "name": "stdout",
     "output_type": "stream",
     "text": [
      "Epoch 1/50\n",
      "   9/1875 [..............................] - ETA: 25s - loss: 0.0944 - accuracy: 0.9722"
     ]
    },
    {
     "name": "stderr",
     "output_type": "stream",
     "text": [
      "2022-04-08 16:06:24.639255: W tensorflow/core/framework/cpu_allocator_impl.cc:82] Allocation of 188160000 exceeds 10% of free system memory.\n"
     ]
    },
    {
     "name": "stdout",
     "output_type": "stream",
     "text": [
      "1875/1875 [==============================] - 22s 12ms/step - loss: 0.1174 - accuracy: 0.9674\n",
      "Epoch 2/50\n",
      "1875/1875 [==============================] - 22s 12ms/step - loss: 0.1144 - accuracy: 0.9699\n",
      "Epoch 3/50\n",
      "1875/1875 [==============================] - 22s 12ms/step - loss: 0.1140 - accuracy: 0.9707\n",
      "Epoch 4/50\n",
      "1875/1875 [==============================] - 23s 12ms/step - loss: 0.1107 - accuracy: 0.9725\n",
      "Epoch 5/50\n",
      "1875/1875 [==============================] - 29s 16ms/step - loss: 0.1062 - accuracy: 0.9735\n",
      "Epoch 6/50\n",
      "1875/1875 [==============================] - 38s 20ms/step - loss: 0.1085 - accuracy: 0.9743\n",
      "Epoch 7/50\n",
      "1875/1875 [==============================] - 29s 16ms/step - loss: 0.1069 - accuracy: 0.9754\n",
      "Epoch 8/50\n",
      "1875/1875 [==============================] - 29s 16ms/step - loss: 0.1101 - accuracy: 0.9760\n",
      "Epoch 9/50\n",
      "1875/1875 [==============================] - 24s 13ms/step - loss: 0.1128 - accuracy: 0.9756\n",
      "Epoch 10/50\n",
      "1875/1875 [==============================] - 22s 12ms/step - loss: 0.1088 - accuracy: 0.9766\n",
      "Epoch 11/50\n",
      "1875/1875 [==============================] - 23s 12ms/step - loss: 0.1091 - accuracy: 0.9769\n",
      "Epoch 12/50\n",
      "1875/1875 [==============================] - 23s 12ms/step - loss: 0.1118 - accuracy: 0.9779\n",
      "Epoch 13/50\n",
      "1875/1875 [==============================] - 23s 12ms/step - loss: 0.1139 - accuracy: 0.9776\n",
      "Epoch 14/50\n",
      "1875/1875 [==============================] - 23s 12ms/step - loss: 0.1127 - accuracy: 0.9784\n",
      "Epoch 15/50\n",
      "1875/1875 [==============================] - 23s 12ms/step - loss: 0.1129 - accuracy: 0.9790\n",
      "Epoch 16/50\n",
      "1875/1875 [==============================] - 23s 12ms/step - loss: 0.1198 - accuracy: 0.9790\n",
      "Epoch 17/50\n",
      "1875/1875 [==============================] - 23s 12ms/step - loss: 0.1188 - accuracy: 0.9794\n",
      "Epoch 18/50\n",
      "1875/1875 [==============================] - 23s 12ms/step - loss: 0.1152 - accuracy: 0.9801\n",
      "Epoch 19/50\n",
      "1875/1875 [==============================] - 23s 12ms/step - loss: 0.1120 - accuracy: 0.9813\n",
      "Epoch 20/50\n",
      "1875/1875 [==============================] - 23s 12ms/step - loss: 0.1207 - accuracy: 0.9806\n",
      "Epoch 21/50\n",
      "1875/1875 [==============================] - 23s 12ms/step - loss: 0.1228 - accuracy: 0.9816\n",
      "Epoch 22/50\n",
      "1875/1875 [==============================] - 23s 12ms/step - loss: 0.1191 - accuracy: 0.9821\n",
      "Epoch 23/50\n",
      "1875/1875 [==============================] - 23s 12ms/step - loss: 0.1200 - accuracy: 0.9820\n",
      "Epoch 24/50\n",
      "1875/1875 [==============================] - 23s 12ms/step - loss: 0.1189 - accuracy: 0.9825\n",
      "Epoch 25/50\n",
      "1875/1875 [==============================] - 23s 12ms/step - loss: 0.1242 - accuracy: 0.9827\n",
      "Epoch 26/50\n",
      "1875/1875 [==============================] - 23s 12ms/step - loss: 0.1187 - accuracy: 0.9833\n",
      "Epoch 27/50\n",
      "1875/1875 [==============================] - 23s 12ms/step - loss: 0.1361 - accuracy: 0.9823\n",
      "Epoch 28/50\n",
      "1875/1875 [==============================] - 23s 12ms/step - loss: 0.1145 - accuracy: 0.9848\n",
      "Epoch 29/50\n",
      "1875/1875 [==============================] - 23s 12ms/step - loss: 0.1269 - accuracy: 0.9842\n",
      "Epoch 30/50\n",
      "1875/1875 [==============================] - 23s 12ms/step - loss: 0.1346 - accuracy: 0.9835\n",
      "Epoch 31/50\n",
      "1875/1875 [==============================] - 23s 12ms/step - loss: 0.1401 - accuracy: 0.9839\n",
      "Epoch 32/50\n",
      "1875/1875 [==============================] - 23s 12ms/step - loss: 0.1302 - accuracy: 0.9847\n",
      "Epoch 33/50\n",
      "1875/1875 [==============================] - 23s 12ms/step - loss: 0.1369 - accuracy: 0.9855\n",
      "Epoch 34/50\n",
      "1875/1875 [==============================] - 23s 12ms/step - loss: 0.1339 - accuracy: 0.9848\n",
      "Epoch 35/50\n",
      "1875/1875 [==============================] - 23s 12ms/step - loss: 0.1379 - accuracy: 0.9851\n",
      "Epoch 36/50\n",
      "1875/1875 [==============================] - 23s 12ms/step - loss: 0.1455 - accuracy: 0.9847\n",
      "Epoch 37/50\n",
      "1875/1875 [==============================] - 23s 12ms/step - loss: 0.1320 - accuracy: 0.9862\n",
      "Epoch 38/50\n",
      "1875/1875 [==============================] - 23s 12ms/step - loss: 0.1382 - accuracy: 0.9854\n",
      "Epoch 39/50\n",
      "1875/1875 [==============================] - 23s 12ms/step - loss: 0.1481 - accuracy: 0.9860\n",
      "Epoch 40/50\n",
      "1875/1875 [==============================] - 23s 12ms/step - loss: 0.1448 - accuracy: 0.9858\n",
      "Epoch 41/50\n",
      "1875/1875 [==============================] - 23s 12ms/step - loss: 0.1413 - accuracy: 0.9858\n",
      "Epoch 42/50\n",
      "1875/1875 [==============================] - 23s 12ms/step - loss: 0.1434 - accuracy: 0.9863\n",
      "Epoch 43/50\n",
      "1875/1875 [==============================] - 23s 12ms/step - loss: 0.1578 - accuracy: 0.9856\n",
      "Epoch 44/50\n",
      "1875/1875 [==============================] - 23s 12ms/step - loss: 0.1452 - accuracy: 0.9869\n",
      "Epoch 45/50\n",
      "1875/1875 [==============================] - 23s 12ms/step - loss: 0.1370 - accuracy: 0.9878\n",
      "Epoch 46/50\n",
      "1875/1875 [==============================] - 23s 12ms/step - loss: 0.1606 - accuracy: 0.9867\n",
      "Epoch 47/50\n",
      "1875/1875 [==============================] - 23s 12ms/step - loss: 0.1454 - accuracy: 0.9873\n",
      "Epoch 48/50\n",
      "1875/1875 [==============================] - 23s 12ms/step - loss: 0.1381 - accuracy: 0.9883\n",
      "Epoch 49/50\n",
      "1875/1875 [==============================] - 23s 12ms/step - loss: 0.1680 - accuracy: 0.9860\n",
      "Epoch 50/50\n",
      "1875/1875 [==============================] - 23s 12ms/step - loss: 0.1596 - accuracy: 0.9878\n"
     ]
    },
    {
     "data": {
      "text/plain": [
       "<keras.callbacks.History at 0x7f59f1b938b0>"
      ]
     },
     "execution_count": 66,
     "metadata": {},
     "output_type": "execute_result"
    }
   ],
   "source": [
    "model.fit(x_train, y_train, epochs=50)"
   ]
  },
  {
   "cell_type": "code",
   "execution_count": 70,
   "id": "2d42b137-d875-4893-a4c6-f83be9bf33ce",
   "metadata": {},
   "outputs": [],
   "source": [
    "import cv2"
   ]
  },
  {
   "cell_type": "code",
   "execution_count": 74,
   "id": "9e8e9586-a028-4b24-9ed6-65c677dcca5b",
   "metadata": {},
   "outputs": [],
   "source": [
    "for i in range(0,10):\n",
    "    cv2.imshow(\"imu\", x_train[i])\n",
    "    cv2.waitKey(0)\n",
    "cv2.destroyAllWindows()"
   ]
  },
  {
   "cell_type": "code",
   "execution_count": 76,
   "id": "e531477e-2937-4b4c-b9be-8f68592dc090",
   "metadata": {},
   "outputs": [
    {
     "data": {
      "text/plain": [
       "28"
      ]
     },
     "execution_count": 76,
     "metadata": {},
     "output_type": "execute_result"
    }
   ],
   "source": [
    "len(x_train[0])"
   ]
  },
  {
   "cell_type": "code",
   "execution_count": 82,
   "id": "c2987923-4df5-4e0e-9474-3fe227bcba07",
   "metadata": {},
   "outputs": [
    {
     "name": "stdout",
     "output_type": "stream",
     "text": [
      "WARNING:tensorflow:`input_shape` is undefined or non-square, or `rows` is not in [96, 128, 160, 192, 224]. Weights for input shape (224, 224) will be loaded as the default.\n",
      "Downloading data from https://storage.googleapis.com/tensorflow/keras-applications/mobilenet_v2/mobilenet_v2_weights_tf_dim_ordering_tf_kernels_1.0_224_no_top.h5\n",
      "9412608/9406464 [==============================] - 4s 0us/step\n",
      "9420800/9406464 [==============================] - 4s 0us/step\n"
     ]
    }
   ],
   "source": [
    "model = tf.keras.applications.MobileNetV2(input_shape=((32,32,3)),\n",
    "                                          include_top=False,\n",
    "                                          weights=\"imagenet\",\n",
    "                                          pooling=\"avg\")\n"
   ]
  },
  {
   "cell_type": "code",
   "execution_count": 83,
   "id": "a7f775fd-688e-46cc-a592-039eedb40563",
   "metadata": {},
   "outputs": [],
   "source": [
    "from tensorflow.keras.layers import Dense, Dropout, Flatten, Conv2D, MaxPooling2D"
   ]
  },
  {
   "cell_type": "code",
   "execution_count": 91,
   "id": "fd1867db-05e1-41c5-a51f-15d95b5fd961",
   "metadata": {},
   "outputs": [],
   "source": [
    "model = models.Sequential([Conv2D(28,(3,3), activation=tf.nn.leaky_relu, input_shape=(28,28,1)),\n",
    "                           MaxPooling2D((2,2)),\n",
    "                           Conv2D(56,(3,3), activation=tf.nn.leaky_relu),\n",
    "                           MaxPooling2D((2,2)),\n",
    "                           Conv2D(112,(3,3), activation=tf.nn.leaky_relu),\n",
    "                           Flatten(),\n",
    "                           Dense(1024, activation=tf.nn.leaky_relu),\n",
    "                           Dropout(0.3),\n",
    "                           Dense(512, activation=tf.nn.leaky_relu),\n",
    "                           Dropout(0.2),\n",
    "                           Dense(10, activation=tf.nn.softmax)])"
   ]
  },
  {
   "cell_type": "code",
   "execution_count": 92,
   "id": "6fc75cf9-c19f-4f2f-9e84-081d5efa504f",
   "metadata": {},
   "outputs": [
    {
     "name": "stdout",
     "output_type": "stream",
     "text": [
      "Model: \"sequential_5\"\n",
      "_________________________________________________________________\n",
      " Layer (type)                Output Shape              Param #   \n",
      "=================================================================\n",
      " conv2d_6 (Conv2D)           (None, 26, 26, 28)        280       \n",
      "                                                                 \n",
      " max_pooling2d_3 (MaxPooling  (None, 13, 13, 28)       0         \n",
      " 2D)                                                             \n",
      "                                                                 \n",
      " conv2d_7 (Conv2D)           (None, 11, 11, 56)        14168     \n",
      "                                                                 \n",
      " max_pooling2d_4 (MaxPooling  (None, 5, 5, 56)         0         \n",
      " 2D)                                                             \n",
      "                                                                 \n",
      " conv2d_8 (Conv2D)           (None, 3, 3, 112)         56560     \n",
      "                                                                 \n",
      " flatten_4 (Flatten)         (None, 1008)              0         \n",
      "                                                                 \n",
      " dense_12 (Dense)            (None, 1024)              1033216   \n",
      "                                                                 \n",
      " dropout_8 (Dropout)         (None, 1024)              0         \n",
      "                                                                 \n",
      " dense_13 (Dense)            (None, 512)               524800    \n",
      "                                                                 \n",
      " dropout_9 (Dropout)         (None, 512)               0         \n",
      "                                                                 \n",
      " dense_14 (Dense)            (None, 10)                5130      \n",
      "                                                                 \n",
      "=================================================================\n",
      "Total params: 1,634,154\n",
      "Trainable params: 1,634,154\n",
      "Non-trainable params: 0\n",
      "_________________________________________________________________\n"
     ]
    }
   ],
   "source": [
    "model.summary()"
   ]
  },
  {
   "cell_type": "code",
   "execution_count": 93,
   "id": "451567a1-2a16-45d1-959c-4560cd361388",
   "metadata": {},
   "outputs": [],
   "source": [
    "model.compile(optimizer=\"adam\",\n",
    "              loss=\"sparse_categorical_crossentropy\",\n",
    "              metrics=[\"accuracy\"])"
   ]
  },
  {
   "cell_type": "code",
   "execution_count": 94,
   "id": "a628dbbc-2650-4b8b-b7ff-05890217ba1e",
   "metadata": {},
   "outputs": [
    {
     "name": "stdout",
     "output_type": "stream",
     "text": [
      "Epoch 1/10\n",
      "1875/1875 [==============================] - 68s 36ms/step - loss: 0.1278 - accuracy: 0.9606 - val_loss: 0.0472 - val_accuracy: 0.9859\n",
      "Epoch 2/10\n",
      "1875/1875 [==============================] - 60s 32ms/step - loss: 0.0568 - accuracy: 0.9832 - val_loss: 0.0451 - val_accuracy: 0.9856\n",
      "Epoch 3/10\n",
      "1875/1875 [==============================] - 60s 32ms/step - loss: 0.0472 - accuracy: 0.9859 - val_loss: 0.0613 - val_accuracy: 0.9826\n",
      "Epoch 4/10\n",
      "1875/1875 [==============================] - 58s 31ms/step - loss: 0.0418 - accuracy: 0.9880 - val_loss: 0.0603 - val_accuracy: 0.9814\n",
      "Epoch 5/10\n",
      "1875/1875 [==============================] - 62s 33ms/step - loss: 0.0382 - accuracy: 0.9888 - val_loss: 0.0542 - val_accuracy: 0.9848\n",
      "Epoch 6/10\n",
      "1875/1875 [==============================] - 62s 33ms/step - loss: 0.0338 - accuracy: 0.9900 - val_loss: 0.0469 - val_accuracy: 0.9851\n",
      "Epoch 7/10\n",
      "1875/1875 [==============================] - 61s 32ms/step - loss: 0.0319 - accuracy: 0.9913 - val_loss: 0.0415 - val_accuracy: 0.9878\n",
      "Epoch 8/10\n",
      "1875/1875 [==============================] - 63s 33ms/step - loss: 0.0312 - accuracy: 0.9911 - val_loss: 0.0507 - val_accuracy: 0.9848\n",
      "Epoch 9/10\n",
      "1875/1875 [==============================] - 67s 36ms/step - loss: 0.0311 - accuracy: 0.9918 - val_loss: 0.0688 - val_accuracy: 0.9851\n",
      "Epoch 10/10\n",
      "1875/1875 [==============================] - 63s 34ms/step - loss: 0.0332 - accuracy: 0.9914 - val_loss: 0.0439 - val_accuracy: 0.9911\n"
     ]
    }
   ],
   "source": [
    "his = model.fit(x_train, y_train, epochs=10, validation_data=(x_test, y_test))"
   ]
  },
  {
   "cell_type": "code",
   "execution_count": 95,
   "id": "a7434bc4-fde6-4bff-b55a-4ec567805564",
   "metadata": {},
   "outputs": [
    {
     "data": {
      "text/plain": [
       "(60000, 28, 28)"
      ]
     },
     "execution_count": 95,
     "metadata": {},
     "output_type": "execute_result"
    }
   ],
   "source": [
    "x_train.shape"
   ]
  },
  {
   "cell_type": "code",
   "execution_count": 96,
   "id": "f96fb991-ccb5-4c55-927a-bd0dae081cfc",
   "metadata": {},
   "outputs": [
    {
     "data": {
      "text/plain": [
       "(60000,)"
      ]
     },
     "execution_count": 96,
     "metadata": {},
     "output_type": "execute_result"
    }
   ],
   "source": [
    "y_train.shape"
   ]
  },
  {
   "cell_type": "code",
   "execution_count": 97,
   "id": "f43da15d-daee-4497-992b-a984d4130821",
   "metadata": {},
   "outputs": [
    {
     "data": {
      "text/plain": [
       "(10000, 28, 28)"
      ]
     },
     "execution_count": 97,
     "metadata": {},
     "output_type": "execute_result"
    }
   ],
   "source": [
    "x_test.shape"
   ]
  },
  {
   "cell_type": "code",
   "execution_count": 98,
   "id": "d3e0eb33-ff0b-4cd1-9ee6-2fc7cb75b697",
   "metadata": {},
   "outputs": [
    {
     "data": {
      "text/plain": [
       "(10000,)"
      ]
     },
     "execution_count": 98,
     "metadata": {},
     "output_type": "execute_result"
    }
   ],
   "source": [
    "y_test.shape"
   ]
  },
  {
   "cell_type": "code",
   "execution_count": 131,
   "id": "db410def-63e1-47c3-8b34-aff773fa8a52",
   "metadata": {},
   "outputs": [
    {
     "name": "stdout",
     "output_type": "stream",
     "text": [
      "(60000, 28, 28, 1)\n",
      "(60000, 28, 28, 3)\n",
      "(60000, 32, 32, 3)\n",
      "(60000, 32, 32, 3) (60000, 10)\n"
     ]
    }
   ],
   "source": [
    "(x_train, y_train), (x_test, y_test) = mnist.load_data()\n",
    "x_train, x_test = x_train/255.0, x_test/255.0\n",
    "\n",
    "# expand new axis, channel axis \n",
    "x_train = np.expand_dims(x_train, axis=-1)\n",
    "print(x_train.shape)\n",
    "\n",
    "# [optional]: we may need 3 channel (instead of 1)\n",
    "x_train = np.repeat(x_train, 3, axis=-1)\n",
    "print(x_train.shape)\n",
    "\n",
    "x_train = tf.image.resize(x_train, [32,32]) # if we want to resize\n",
    "print(x_train.shape)\n",
    "\n",
    "y_train = tf.keras.utils.to_categorical(y_train, num_classes=10)\n",
    "print(x_train.shape, y_train.shape)"
   ]
  },
  {
   "cell_type": "code",
   "execution_count": 132,
   "id": "97489f23-12e1-4364-a4a3-05980a41281e",
   "metadata": {},
   "outputs": [
    {
     "name": "stdout",
     "output_type": "stream",
     "text": [
      "Downloading data from https://storage.googleapis.com/tensorflow/keras-applications/resnet/resnet50_weights_tf_dim_ordering_tf_kernels_notop.h5\n",
      "94773248/94765736 [==============================] - 29s 0us/step\n",
      "94781440/94765736 [==============================] - 29s 0us/step\n"
     ]
    }
   ],
   "source": [
    "ip = tf.keras.Input(shape=(32,32,3))\n",
    "net = tf.keras.applications.ResNet50(input_tensor = ip,\n",
    "                                          include_top=False,\n",
    "                                          weights='imagenet')\n",
    "gap = tf.keras.layers.GlobalAveragePooling2D()(net.output)\n",
    "op = Dense(10, activation=tf.nn.softmax, use_bias=True)(gap)\n",
    "\n"
   ]
  },
  {
   "cell_type": "code",
   "execution_count": 133,
   "id": "4e76eefd-520f-4be2-b4b2-1b2797b3fdca",
   "metadata": {},
   "outputs": [],
   "source": [
    "model = tf.keras.models.Model(inputs=net.input, outputs=op)"
   ]
  },
  {
   "cell_type": "code",
   "execution_count": 136,
   "id": "77285e74-3bd6-4844-a856-e8a66c5de864",
   "metadata": {},
   "outputs": [],
   "source": [
    "model.compile(optimizer=\"adam\",\n",
    "              loss=tf.keras.losses.CategoricalCrossentropy(),\n",
    "              metrics=[\"accuracy\"])"
   ]
  },
  {
   "cell_type": "code",
   "execution_count": null,
   "id": "2b073655-0de3-4d95-ba72-73aa2d4bd2d5",
   "metadata": {},
   "outputs": [
    {
     "name": "stdout",
     "output_type": "stream",
     "text": [
      "Epoch 1/10\n",
      "  6/469 [..............................] - ETA: 1:15:44 - loss: 1.7807 - accuracy: 0.5273"
     ]
    }
   ],
   "source": [
    "his = model.fit(x_train, y_train, epochs=10, batch_size=128)"
   ]
  },
  {
   "cell_type": "code",
   "execution_count": null,
   "id": "6d08150a-41ec-43c6-ad66-75705d306fd6",
   "metadata": {},
   "outputs": [],
   "source": []
  }
 ],
 "metadata": {
  "kernelspec": {
   "display_name": "Python 3 (ipykernel)",
   "language": "python",
   "name": "python3"
  },
  "language_info": {
   "codemirror_mode": {
    "name": "ipython",
    "version": 3
   },
   "file_extension": ".py",
   "mimetype": "text/x-python",
   "name": "python",
   "nbconvert_exporter": "python",
   "pygments_lexer": "ipython3",
   "version": "3.8.10"
  }
 },
 "nbformat": 4,
 "nbformat_minor": 5
}
